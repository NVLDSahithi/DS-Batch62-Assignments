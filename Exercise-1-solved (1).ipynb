{
 "cells": [
  {
   "cell_type": "code",
   "execution_count": 1,
   "id": "e52e87b7",
   "metadata": {},
   "outputs": [],
   "source": [
    "import pandas as pd\n",
    "import seaborn as sns"
   ]
  },
  {
   "cell_type": "code",
   "execution_count": 2,
   "id": "ce4fe646",
   "metadata": {},
   "outputs": [
    {
     "data": {
      "text/html": [
       "<div>\n",
       "<style scoped>\n",
       "    .dataframe tbody tr th:only-of-type {\n",
       "        vertical-align: middle;\n",
       "    }\n",
       "\n",
       "    .dataframe tbody tr th {\n",
       "        vertical-align: top;\n",
       "    }\n",
       "\n",
       "    .dataframe thead th {\n",
       "        text-align: right;\n",
       "    }\n",
       "</style>\n",
       "<table border=\"1\" class=\"dataframe\">\n",
       "  <thead>\n",
       "    <tr style=\"text-align: right;\">\n",
       "      <th></th>\n",
       "      <th>title</th>\n",
       "      <th>year</th>\n",
       "      <th>name</th>\n",
       "      <th>type</th>\n",
       "      <th>character</th>\n",
       "      <th>n</th>\n",
       "    </tr>\n",
       "  </thead>\n",
       "  <tbody>\n",
       "    <tr>\n",
       "      <th>0</th>\n",
       "      <td>Closet Monster</td>\n",
       "      <td>2015.0</td>\n",
       "      <td>Buffy #1</td>\n",
       "      <td>actor</td>\n",
       "      <td>Buffy 4</td>\n",
       "      <td>NaN</td>\n",
       "    </tr>\n",
       "    <tr>\n",
       "      <th>1</th>\n",
       "      <td>Suuri illusioni</td>\n",
       "      <td>1985.0</td>\n",
       "      <td>Homo $</td>\n",
       "      <td>actor</td>\n",
       "      <td>Guests</td>\n",
       "      <td>22.0</td>\n",
       "    </tr>\n",
       "    <tr>\n",
       "      <th>2</th>\n",
       "      <td>Battle of the Sexes</td>\n",
       "      <td>2017.0</td>\n",
       "      <td>$hutter</td>\n",
       "      <td>actor</td>\n",
       "      <td>Bobby Riggs Fan</td>\n",
       "      <td>10.0</td>\n",
       "    </tr>\n",
       "    <tr>\n",
       "      <th>3</th>\n",
       "      <td>Secret in Their Eyes</td>\n",
       "      <td>2015.0</td>\n",
       "      <td>$hutter</td>\n",
       "      <td>actor</td>\n",
       "      <td>2002 Dodger Fan</td>\n",
       "      <td>NaN</td>\n",
       "    </tr>\n",
       "    <tr>\n",
       "      <th>4</th>\n",
       "      <td>Steve Jobs</td>\n",
       "      <td>2015.0</td>\n",
       "      <td>$hutter</td>\n",
       "      <td>actor</td>\n",
       "      <td>1988 Opera House Patron</td>\n",
       "      <td>NaN</td>\n",
       "    </tr>\n",
       "  </tbody>\n",
       "</table>\n",
       "</div>"
      ],
      "text/plain": [
       "                  title    year      name   type                character  \\\n",
       "0        Closet Monster  2015.0  Buffy #1  actor                  Buffy 4   \n",
       "1       Suuri illusioni  1985.0    Homo $  actor                   Guests   \n",
       "2   Battle of the Sexes  2017.0   $hutter  actor          Bobby Riggs Fan   \n",
       "3  Secret in Their Eyes  2015.0   $hutter  actor          2002 Dodger Fan   \n",
       "4            Steve Jobs  2015.0   $hutter  actor  1988 Opera House Patron   \n",
       "\n",
       "      n  \n",
       "0   NaN  \n",
       "1  22.0  \n",
       "2  10.0  \n",
       "3   NaN  \n",
       "4   NaN  "
      ]
     },
     "execution_count": 2,
     "metadata": {},
     "output_type": "execute_result"
    }
   ],
   "source": [
    "cast = pd.read_csv('C:/Users/DELL/Desktop/Datascience Course/cast.csv')\n",
    "cast.head()"
   ]
  },
  {
   "cell_type": "markdown",
   "id": "c12b9283",
   "metadata": {},
   "source": [
    "### How many movies are listed in the titles dataframe?"
   ]
  },
  {
   "cell_type": "code",
   "execution_count": 3,
   "id": "b315187f",
   "metadata": {},
   "outputs": [
    {
     "name": "stdout",
     "output_type": "stream",
     "text": [
      "The listed movies under the title dataframe are 2159949\n"
     ]
    }
   ],
   "source": [
    "rows = cast.shape[0]         ### no.of rows\n",
    "column = cast.columns[0]     ### Column name\n",
    "print(\"The listed movies under the {}\".format(column),\"dataframe are {}\".format(rows))"
   ]
  },
  {
   "cell_type": "markdown",
   "id": "eab01376",
   "metadata": {},
   "source": [
    "### What are the earliest two films listed in the titles dataframe?\n"
   ]
  },
  {
   "cell_type": "code",
   "execution_count": 4,
   "id": "22f068d7",
   "metadata": {},
   "outputs": [
    {
     "name": "stdout",
     "output_type": "stream",
     "text": [
      "The Earliest Two Films are \n"
     ]
    },
    {
     "data": {
      "text/html": [
       "<div>\n",
       "<style scoped>\n",
       "    .dataframe tbody tr th:only-of-type {\n",
       "        vertical-align: middle;\n",
       "    }\n",
       "\n",
       "    .dataframe tbody tr th {\n",
       "        vertical-align: top;\n",
       "    }\n",
       "\n",
       "    .dataframe thead th {\n",
       "        text-align: right;\n",
       "    }\n",
       "</style>\n",
       "<table border=\"1\" class=\"dataframe\">\n",
       "  <thead>\n",
       "    <tr style=\"text-align: right;\">\n",
       "      <th></th>\n",
       "      <th>title</th>\n",
       "      <th>name</th>\n",
       "      <th>type</th>\n",
       "      <th>character</th>\n",
       "      <th>n</th>\n",
       "    </tr>\n",
       "    <tr>\n",
       "      <th>year</th>\n",
       "      <th></th>\n",
       "      <th></th>\n",
       "      <th></th>\n",
       "      <th></th>\n",
       "      <th></th>\n",
       "    </tr>\n",
       "  </thead>\n",
       "  <tbody>\n",
       "    <tr>\n",
       "      <th>2023.0</th>\n",
       "      <td>Xenomorph</td>\n",
       "      <td>Max (IV) Kaufman</td>\n",
       "      <td>actor</td>\n",
       "      <td>Jake</td>\n",
       "      <td>NaN</td>\n",
       "    </tr>\n",
       "    <tr>\n",
       "      <th>2023.0</th>\n",
       "      <td>Inside Me</td>\n",
       "      <td>Antonio Alcala</td>\n",
       "      <td>actor</td>\n",
       "      <td>Max</td>\n",
       "      <td>NaN</td>\n",
       "    </tr>\n",
       "  </tbody>\n",
       "</table>\n",
       "</div>"
      ],
      "text/plain": [
       "            title              name   type character   n\n",
       "year                                                    \n",
       "2023.0  Xenomorph  Max (IV) Kaufman  actor      Jake NaN\n",
       "2023.0  Inside Me    Antonio Alcala  actor       Max NaN"
      ]
     },
     "execution_count": 4,
     "metadata": {},
     "output_type": "execute_result"
    }
   ],
   "source": [
    "index_year = cast.set_index('year')  ## set index as year\n",
    "sort       = index_year.sort_index(ascending = False) # sort data in decending order\n",
    "Records    = sort.head(2) ### get latest two records data\n",
    "\n",
    "print(\"The Earliest Two Films are \")\n",
    "\n",
    "Records"
   ]
  },
  {
   "cell_type": "markdown",
   "id": "53be10ec",
   "metadata": {},
   "source": [
    "### How many movies have the title \"Hamlet\"?\n"
   ]
  },
  {
   "cell_type": "code",
   "execution_count": 5,
   "id": "ed95355f",
   "metadata": {},
   "outputs": [
    {
     "name": "stdout",
     "output_type": "stream",
     "text": [
      "Total movies with the title of 'Hamlet' are 218\n"
     ]
    }
   ],
   "source": [
    "title_index = cast.set_index('title')          ## Set the index by title\n",
    "title       = title_index.loc['Hamlet']        ## filter index with title Hamlet\n",
    "total_movies= title.shape[0]                   ## Count the number movies \n",
    "\n",
    "print(\"Total movies with the title of 'Hamlet' are {}\".format(total_movies))  #display output"
   ]
  },
  {
   "cell_type": "markdown",
   "id": "1e810186",
   "metadata": {},
   "source": [
    "### How many movies are titled \"North by Northwest\"?"
   ]
  },
  {
   "cell_type": "code",
   "execution_count": 6,
   "id": "6bec14f3",
   "metadata": {},
   "outputs": [
    {
     "name": "stdout",
     "output_type": "stream",
     "text": [
      "Total movies with the title of 'North by Nortwest' are 81\n"
     ]
    }
   ],
   "source": [
    "title_index1 = cast.set_index('title')          ## Set the index by title\n",
    "\n",
    "title1       = title_index1.loc['North by Northwest']        ## filter index with title North by Nortwest\n",
    "\n",
    "total        = title1.shape[0]                   ## Count the number movies \n",
    "\n",
    "print(\"Total movies with the title of 'North by Nortwest' are {}\".format(total))  #display output"
   ]
  },
  {
   "cell_type": "markdown",
   "id": "8e8e2163",
   "metadata": {},
   "source": [
    "### When was the first movie titled \"Hamlet\" made?"
   ]
  },
  {
   "cell_type": "code",
   "execution_count": 9,
   "id": "4bced193",
   "metadata": {},
   "outputs": [
    {
     "name": "stdout",
     "output_type": "stream",
     "text": [
      "The first movie titled 'Hamlet' is made in the year of 1910\n"
     ]
    }
   ],
   "source": [
    "a = cast[(cast['title']=='Hamlet')].year.min()\n",
    "value = int(a)\n",
    "print(\"The first movie titled 'Hamlet' is made in the year of {}\".format(value))"
   ]
  },
  {
   "cell_type": "markdown",
   "id": "979c5002",
   "metadata": {},
   "source": [
    "### List all of the \"Treasure Island\" movies from earliest to most recent.\n"
   ]
  },
  {
   "cell_type": "code",
   "execution_count": 16,
   "id": "063ccbcd",
   "metadata": {},
   "outputs": [
    {
     "data": {
      "text/html": [
       "<div>\n",
       "<style scoped>\n",
       "    .dataframe tbody tr th:only-of-type {\n",
       "        vertical-align: middle;\n",
       "    }\n",
       "\n",
       "    .dataframe tbody tr th {\n",
       "        vertical-align: top;\n",
       "    }\n",
       "\n",
       "    .dataframe thead th {\n",
       "        text-align: right;\n",
       "    }\n",
       "</style>\n",
       "<table border=\"1\" class=\"dataframe\">\n",
       "  <thead>\n",
       "    <tr style=\"text-align: right;\">\n",
       "      <th></th>\n",
       "      <th>title</th>\n",
       "      <th>year</th>\n",
       "      <th>name</th>\n",
       "      <th>type</th>\n",
       "      <th>character</th>\n",
       "      <th>n</th>\n",
       "    </tr>\n",
       "  </thead>\n",
       "  <tbody>\n",
       "    <tr>\n",
       "      <th>1291387</th>\n",
       "      <td>Treasure Island</td>\n",
       "      <td>1918.0</td>\n",
       "      <td>Elmo Lincoln</td>\n",
       "      <td>actor</td>\n",
       "      <td>Prologue Player</td>\n",
       "      <td>NaN</td>\n",
       "    </tr>\n",
       "    <tr>\n",
       "      <th>830114</th>\n",
       "      <td>Treasure Island</td>\n",
       "      <td>1918.0</td>\n",
       "      <td>Charles Gorman</td>\n",
       "      <td>actor</td>\n",
       "      <td>Prologue Player</td>\n",
       "      <td>NaN</td>\n",
       "    </tr>\n",
       "    <tr>\n",
       "      <th>840745</th>\n",
       "      <td>Treasure Island</td>\n",
       "      <td>1918.0</td>\n",
       "      <td>Joe Grant</td>\n",
       "      <td>actor</td>\n",
       "      <td>Undetermined child role</td>\n",
       "      <td>NaN</td>\n",
       "    </tr>\n",
       "    <tr>\n",
       "      <th>909157</th>\n",
       "      <td>Treasure Island</td>\n",
       "      <td>1918.0</td>\n",
       "      <td>Edwin Harley</td>\n",
       "      <td>actor</td>\n",
       "      <td>Prologue Player</td>\n",
       "      <td>NaN</td>\n",
       "    </tr>\n",
       "    <tr>\n",
       "      <th>1946119</th>\n",
       "      <td>Treasure Island</td>\n",
       "      <td>1918.0</td>\n",
       "      <td>Lewis Sargent</td>\n",
       "      <td>actor</td>\n",
       "      <td>Ben Gunn</td>\n",
       "      <td>5.0</td>\n",
       "    </tr>\n",
       "    <tr>\n",
       "      <th>...</th>\n",
       "      <td>...</td>\n",
       "      <td>...</td>\n",
       "      <td>...</td>\n",
       "      <td>...</td>\n",
       "      <td>...</td>\n",
       "      <td>...</td>\n",
       "    </tr>\n",
       "    <tr>\n",
       "      <th>1959741</th>\n",
       "      <td>Treasure Island</td>\n",
       "      <td>1999.0</td>\n",
       "      <td>Richard Schave</td>\n",
       "      <td>actor</td>\n",
       "      <td>Man</td>\n",
       "      <td>21.0</td>\n",
       "    </tr>\n",
       "    <tr>\n",
       "      <th>872384</th>\n",
       "      <td>Treasure Island</td>\n",
       "      <td>1999.0</td>\n",
       "      <td>Paul Gutrecht</td>\n",
       "      <td>actor</td>\n",
       "      <td>Some Guy</td>\n",
       "      <td>20.0</td>\n",
       "    </tr>\n",
       "    <tr>\n",
       "      <th>210668</th>\n",
       "      <td>Treasure Island</td>\n",
       "      <td>1999.0</td>\n",
       "      <td>Jonah Blechman</td>\n",
       "      <td>actor</td>\n",
       "      <td>The Body</td>\n",
       "      <td>3.0</td>\n",
       "    </tr>\n",
       "    <tr>\n",
       "      <th>1869989</th>\n",
       "      <td>Treasure Island</td>\n",
       "      <td>1999.0</td>\n",
       "      <td>Scot Thomas Robinson</td>\n",
       "      <td>actor</td>\n",
       "      <td>Jimmy</td>\n",
       "      <td>11.0</td>\n",
       "    </tr>\n",
       "    <tr>\n",
       "      <th>880460</th>\n",
       "      <td>Treasure Island</td>\n",
       "      <td>1999.0</td>\n",
       "      <td>Rio Hackford</td>\n",
       "      <td>actor</td>\n",
       "      <td>Hans</td>\n",
       "      <td>23.0</td>\n",
       "    </tr>\n",
       "  </tbody>\n",
       "</table>\n",
       "<p>154 rows × 6 columns</p>\n",
       "</div>"
      ],
      "text/plain": [
       "                   title    year                  name   type  \\\n",
       "1291387  Treasure Island  1918.0          Elmo Lincoln  actor   \n",
       "830114   Treasure Island  1918.0        Charles Gorman  actor   \n",
       "840745   Treasure Island  1918.0             Joe Grant  actor   \n",
       "909157   Treasure Island  1918.0          Edwin Harley  actor   \n",
       "1946119  Treasure Island  1918.0         Lewis Sargent  actor   \n",
       "...                  ...     ...                   ...    ...   \n",
       "1959741  Treasure Island  1999.0        Richard Schave  actor   \n",
       "872384   Treasure Island  1999.0         Paul Gutrecht  actor   \n",
       "210668   Treasure Island  1999.0        Jonah Blechman  actor   \n",
       "1869989  Treasure Island  1999.0  Scot Thomas Robinson  actor   \n",
       "880460   Treasure Island  1999.0          Rio Hackford  actor   \n",
       "\n",
       "                       character     n  \n",
       "1291387          Prologue Player   NaN  \n",
       "830114           Prologue Player   NaN  \n",
       "840745   Undetermined child role   NaN  \n",
       "909157           Prologue Player   NaN  \n",
       "1946119                 Ben Gunn   5.0  \n",
       "...                          ...   ...  \n",
       "1959741                      Man  21.0  \n",
       "872384                  Some Guy  20.0  \n",
       "210668                  The Body   3.0  \n",
       "1869989                    Jimmy  11.0  \n",
       "880460                      Hans  23.0  \n",
       "\n",
       "[154 rows x 6 columns]"
      ]
     },
     "execution_count": 16,
     "metadata": {},
     "output_type": "execute_result"
    }
   ],
   "source": [
    "a = cast[(cast['title']=='Treasure Island')]\n",
    "a.sort_values(by = 'year')"
   ]
  },
  {
   "cell_type": "markdown",
   "id": "75031639",
   "metadata": {},
   "source": [
    "### How many movies were made in the year 1950?"
   ]
  },
  {
   "cell_type": "code",
   "execution_count": 17,
   "id": "86ba5904",
   "metadata": {},
   "outputs": [
    {
     "name": "stdout",
     "output_type": "stream",
     "text": [
      "Total No.of Moives made in the year of 1950 were - 14653\n"
     ]
    }
   ],
   "source": [
    "data = cast.groupby(cast['year']==1950)['title'].count()  #groupby the year with condition\n",
    "total = data.loc[1]                                       #display count by index\n",
    "print(\"Total No.of Moives made in the year of 1950 were - {}\".format(total))"
   ]
  },
  {
   "cell_type": "markdown",
   "id": "361a6e60",
   "metadata": {},
   "source": [
    "### How many movies were made in the year 1960?"
   ]
  },
  {
   "cell_type": "code",
   "execution_count": 18,
   "id": "f4fd3d0a",
   "metadata": {},
   "outputs": [
    {
     "name": "stdout",
     "output_type": "stream",
     "text": [
      "Total No.of Moives made in the year of 1950 were - 11551\n"
     ]
    }
   ],
   "source": [
    "data = cast.groupby(cast['year']==1960)['title'].count()  #groupby the year with condition\n",
    "total = data.loc[1]                                       #display count by index\n",
    "print(\"Total No.of Moives made in the year of 1950 were - {}\".format(total))"
   ]
  },
  {
   "cell_type": "markdown",
   "id": "fc1f414a",
   "metadata": {},
   "source": [
    "### How many movies were made from 1950 through 1959?"
   ]
  },
  {
   "cell_type": "code",
   "execution_count": 19,
   "id": "1afa07dc",
   "metadata": {},
   "outputs": [
    {
     "name": "stdout",
     "output_type": "stream",
     "text": [
      "Total No.of Moives made from 1950 to 1959 were - 122755\n"
     ]
    }
   ],
   "source": [
    "data = cast.groupby((cast['year']>1950) & (cast['year']<=1959))['title'].count()  #groupby the year with condition\n",
    "total = data.loc[1]                                       #display count by index\n",
    "print(\"Total No.of Moives made from 1950 to 1959 were - {}\".format(total))"
   ]
  },
  {
   "cell_type": "markdown",
   "id": "4daacc92",
   "metadata": {},
   "source": [
    "### In what years has a movie titled \"Batman\" been released?"
   ]
  },
  {
   "cell_type": "code",
   "execution_count": 20,
   "id": "0a0ebdca",
   "metadata": {},
   "outputs": [
    {
     "data": {
      "text/html": [
       "<div>\n",
       "<style scoped>\n",
       "    .dataframe tbody tr th:only-of-type {\n",
       "        vertical-align: middle;\n",
       "    }\n",
       "\n",
       "    .dataframe tbody tr th {\n",
       "        vertical-align: top;\n",
       "    }\n",
       "\n",
       "    .dataframe thead th {\n",
       "        text-align: right;\n",
       "    }\n",
       "</style>\n",
       "<table border=\"1\" class=\"dataframe\">\n",
       "  <thead>\n",
       "    <tr style=\"text-align: right;\">\n",
       "      <th></th>\n",
       "      <th>title</th>\n",
       "      <th>year</th>\n",
       "    </tr>\n",
       "  </thead>\n",
       "  <tbody>\n",
       "    <tr>\n",
       "      <th>95672</th>\n",
       "      <td>Batman</td>\n",
       "      <td>1943.0</td>\n",
       "    </tr>\n",
       "    <tr>\n",
       "      <th>96186</th>\n",
       "      <td>Batman</td>\n",
       "      <td>1943.0</td>\n",
       "    </tr>\n",
       "    <tr>\n",
       "      <th>114034</th>\n",
       "      <td>Batman</td>\n",
       "      <td>1989.0</td>\n",
       "    </tr>\n",
       "    <tr>\n",
       "      <th>119476</th>\n",
       "      <td>Batman</td>\n",
       "      <td>1989.0</td>\n",
       "    </tr>\n",
       "    <tr>\n",
       "      <th>149767</th>\n",
       "      <td>Batman</td>\n",
       "      <td>1989.0</td>\n",
       "    </tr>\n",
       "    <tr>\n",
       "      <th>...</th>\n",
       "      <td>...</td>\n",
       "      <td>...</td>\n",
       "    </tr>\n",
       "    <tr>\n",
       "      <th>2068050</th>\n",
       "      <td>Batman</td>\n",
       "      <td>1989.0</td>\n",
       "    </tr>\n",
       "    <tr>\n",
       "      <th>2096318</th>\n",
       "      <td>Batman</td>\n",
       "      <td>1989.0</td>\n",
       "    </tr>\n",
       "    <tr>\n",
       "      <th>2099960</th>\n",
       "      <td>Batman</td>\n",
       "      <td>1989.0</td>\n",
       "    </tr>\n",
       "    <tr>\n",
       "      <th>2115809</th>\n",
       "      <td>Batman</td>\n",
       "      <td>1989.0</td>\n",
       "    </tr>\n",
       "    <tr>\n",
       "      <th>2152546</th>\n",
       "      <td>Batman</td>\n",
       "      <td>1989.0</td>\n",
       "    </tr>\n",
       "  </tbody>\n",
       "</table>\n",
       "<p>89 rows × 2 columns</p>\n",
       "</div>"
      ],
      "text/plain": [
       "          title    year\n",
       "95672    Batman  1943.0\n",
       "96186    Batman  1943.0\n",
       "114034   Batman  1989.0\n",
       "119476   Batman  1989.0\n",
       "149767   Batman  1989.0\n",
       "...         ...     ...\n",
       "2068050  Batman  1989.0\n",
       "2096318  Batman  1989.0\n",
       "2099960  Batman  1989.0\n",
       "2115809  Batman  1989.0\n",
       "2152546  Batman  1989.0\n",
       "\n",
       "[89 rows x 2 columns]"
      ]
     },
     "execution_count": 20,
     "metadata": {},
     "output_type": "execute_result"
    }
   ],
   "source": [
    "a = cast[(cast['title']=='Batman')]\n",
    "a.loc[:,['title','year']]"
   ]
  },
  {
   "cell_type": "markdown",
   "id": "5209a586",
   "metadata": {},
   "source": [
    "### How many roles were there in the movie \"Inception\"?"
   ]
  },
  {
   "cell_type": "code",
   "execution_count": 21,
   "id": "7a06e542",
   "metadata": {},
   "outputs": [
    {
     "name": "stdout",
     "output_type": "stream",
     "text": [
      "Total No.of Roles in the movie 'Inception' are  - 52\n"
     ]
    }
   ],
   "source": [
    "data = cast.groupby(cast['title']=='Inception')['character'].count()  #groupby the title with condition and character\n",
    "total = data.loc[1]                                       #display count by index\n",
    "print(\"Total No.of Roles in the movie 'Inception' are  - {}\".format(total))"
   ]
  },
  {
   "cell_type": "markdown",
   "id": "03494a79",
   "metadata": {},
   "source": [
    "### How many roles in the movie \"Inception\" are NOT ranked by an \"n\" value?"
   ]
  },
  {
   "cell_type": "code",
   "execution_count": 24,
   "id": "521572d8",
   "metadata": {},
   "outputs": [
    {
     "name": "stdout",
     "output_type": "stream",
     "text": [
      "Total No.of Roles in the movie 'Inception' are not ranked by 'n' value are  - 21\n"
     ]
    }
   ],
   "source": [
    "value = len(cast[(cast.title == 'Inception') & (cast.n.isnull())])\n",
    "print(\"Total No.of Roles in the movie 'Inception' are not ranked by 'n' value are  - {}\".format(value))"
   ]
  },
  {
   "cell_type": "markdown",
   "id": "8905c10a",
   "metadata": {},
   "source": [
    "### But how many roles in the movie \"Inception\" did receive an \"n\" value?"
   ]
  },
  {
   "cell_type": "code",
   "execution_count": 25,
   "id": "d0e8d603",
   "metadata": {},
   "outputs": [
    {
     "name": "stdout",
     "output_type": "stream",
     "text": [
      "Total No.of Roles in the movie 'Inception' are ranked by 'n' value are  - 31\n"
     ]
    }
   ],
   "source": [
    "value = len(cast[(cast.title == 'Inception') & (cast.n.notnull())])\n",
    "print(\"Total No.of Roles in the movie 'Inception' are ranked by 'n' value are  - {}\".format(value))"
   ]
  },
  {
   "cell_type": "markdown",
   "id": "192a8e4b",
   "metadata": {},
   "source": [
    "### Display the cast of \"North by Northwest\" in their correct \"n\"-value order, ignoring roles that did not earn a numeric \"n\" value.¶"
   ]
  },
  {
   "cell_type": "code",
   "execution_count": 26,
   "id": "1b7e3925",
   "metadata": {},
   "outputs": [
    {
     "data": {
      "text/html": [
       "<div>\n",
       "<style scoped>\n",
       "    .dataframe tbody tr th:only-of-type {\n",
       "        vertical-align: middle;\n",
       "    }\n",
       "\n",
       "    .dataframe tbody tr th {\n",
       "        vertical-align: top;\n",
       "    }\n",
       "\n",
       "    .dataframe thead th {\n",
       "        text-align: right;\n",
       "    }\n",
       "</style>\n",
       "<table border=\"1\" class=\"dataframe\">\n",
       "  <thead>\n",
       "    <tr style=\"text-align: right;\">\n",
       "      <th></th>\n",
       "      <th>title</th>\n",
       "      <th>year</th>\n",
       "      <th>name</th>\n",
       "      <th>type</th>\n",
       "      <th>character</th>\n",
       "      <th>n</th>\n",
       "    </tr>\n",
       "  </thead>\n",
       "  <tbody>\n",
       "    <tr>\n",
       "      <th>840374</th>\n",
       "      <td>North by Northwest</td>\n",
       "      <td>1959.0</td>\n",
       "      <td>Cary Grant</td>\n",
       "      <td>actor</td>\n",
       "      <td>Roger O. Thornhill</td>\n",
       "      <td>1.0</td>\n",
       "    </tr>\n",
       "    <tr>\n",
       "      <th>1404704</th>\n",
       "      <td>North by Northwest</td>\n",
       "      <td>1959.0</td>\n",
       "      <td>James Mason</td>\n",
       "      <td>actor</td>\n",
       "      <td>Phillip Vandamm</td>\n",
       "      <td>3.0</td>\n",
       "    </tr>\n",
       "    <tr>\n",
       "      <th>343701</th>\n",
       "      <td>North by Northwest</td>\n",
       "      <td>1959.0</td>\n",
       "      <td>Leo G. Carroll</td>\n",
       "      <td>actor</td>\n",
       "      <td>The Professor</td>\n",
       "      <td>5.0</td>\n",
       "    </tr>\n",
       "    <tr>\n",
       "      <th>1634552</th>\n",
       "      <td>North by Northwest</td>\n",
       "      <td>1959.0</td>\n",
       "      <td>Philip Ober</td>\n",
       "      <td>actor</td>\n",
       "      <td>Lester Townsend</td>\n",
       "      <td>7.0</td>\n",
       "    </tr>\n",
       "    <tr>\n",
       "      <th>1229083</th>\n",
       "      <td>North by Northwest</td>\n",
       "      <td>1959.0</td>\n",
       "      <td>Martin Landau</td>\n",
       "      <td>actor</td>\n",
       "      <td>Leonard</td>\n",
       "      <td>8.0</td>\n",
       "    </tr>\n",
       "    <tr>\n",
       "      <th>1746383</th>\n",
       "      <td>North by Northwest</td>\n",
       "      <td>1959.0</td>\n",
       "      <td>Edward Platt</td>\n",
       "      <td>actor</td>\n",
       "      <td>Victor Larrabee</td>\n",
       "      <td>10.0</td>\n",
       "    </tr>\n",
       "    <tr>\n",
       "      <th>642085</th>\n",
       "      <td>North by Northwest</td>\n",
       "      <td>1959.0</td>\n",
       "      <td>Robert Ellenstein</td>\n",
       "      <td>actor</td>\n",
       "      <td>Licht</td>\n",
       "      <td>11.0</td>\n",
       "    </tr>\n",
       "    <tr>\n",
       "      <th>447893</th>\n",
       "      <td>North by Northwest</td>\n",
       "      <td>1959.0</td>\n",
       "      <td>Philip Coolidge</td>\n",
       "      <td>actor</td>\n",
       "      <td>Dr. Cross</td>\n",
       "      <td>13.0</td>\n",
       "    </tr>\n",
       "    <tr>\n",
       "      <th>1454363</th>\n",
       "      <td>North by Northwest</td>\n",
       "      <td>1959.0</td>\n",
       "      <td>Patrick McVey</td>\n",
       "      <td>actor</td>\n",
       "      <td>Sergeant Flamm</td>\n",
       "      <td>14.0</td>\n",
       "    </tr>\n",
       "    <tr>\n",
       "      <th>198496</th>\n",
       "      <td>North by Northwest</td>\n",
       "      <td>1959.0</td>\n",
       "      <td>Edward Binns</td>\n",
       "      <td>actor</td>\n",
       "      <td>Captain Junket</td>\n",
       "      <td>15.0</td>\n",
       "    </tr>\n",
       "    <tr>\n",
       "      <th>1334726</th>\n",
       "      <td>North by Northwest</td>\n",
       "      <td>1959.0</td>\n",
       "      <td>Ken Lynch</td>\n",
       "      <td>actor</td>\n",
       "      <td>Charley - Chicago Policeman</td>\n",
       "      <td>16.0</td>\n",
       "    </tr>\n",
       "  </tbody>\n",
       "</table>\n",
       "</div>"
      ],
      "text/plain": [
       "                      title    year               name   type  \\\n",
       "840374   North by Northwest  1959.0         Cary Grant  actor   \n",
       "1404704  North by Northwest  1959.0        James Mason  actor   \n",
       "343701   North by Northwest  1959.0     Leo G. Carroll  actor   \n",
       "1634552  North by Northwest  1959.0        Philip Ober  actor   \n",
       "1229083  North by Northwest  1959.0      Martin Landau  actor   \n",
       "1746383  North by Northwest  1959.0       Edward Platt  actor   \n",
       "642085   North by Northwest  1959.0  Robert Ellenstein  actor   \n",
       "447893   North by Northwest  1959.0    Philip Coolidge  actor   \n",
       "1454363  North by Northwest  1959.0      Patrick McVey  actor   \n",
       "198496   North by Northwest  1959.0       Edward Binns  actor   \n",
       "1334726  North by Northwest  1959.0          Ken Lynch  actor   \n",
       "\n",
       "                           character     n  \n",
       "840374            Roger O. Thornhill   1.0  \n",
       "1404704              Phillip Vandamm   3.0  \n",
       "343701                 The Professor   5.0  \n",
       "1634552              Lester Townsend   7.0  \n",
       "1229083                      Leonard   8.0  \n",
       "1746383              Victor Larrabee  10.0  \n",
       "642085                         Licht  11.0  \n",
       "447893                     Dr. Cross  13.0  \n",
       "1454363               Sergeant Flamm  14.0  \n",
       "198496                Captain Junket  15.0  \n",
       "1334726  Charley - Chicago Policeman  16.0  "
      ]
     },
     "execution_count": 26,
     "metadata": {},
     "output_type": "execute_result"
    }
   ],
   "source": [
    "cast[(cast.title == 'North by Northwest') & (cast.n.notnull())].sort_values(by = 'n')"
   ]
  },
  {
   "cell_type": "markdown",
   "id": "e5e17d30",
   "metadata": {},
   "source": [
    "### Display the entire cast, in \"n\"-order, of the 1972 film \"Sleuth\"."
   ]
  },
  {
   "cell_type": "code",
   "execution_count": 27,
   "id": "e1ecabd3",
   "metadata": {},
   "outputs": [],
   "source": [
    "def n_order(x,y):\n",
    "    cast_list = cast[(cast['title']== x) & (cast['year'] == y)]\n",
    "    value     = cast_list.loc[:,['title','year','n']]\n",
    "    return value"
   ]
  },
  {
   "cell_type": "code",
   "execution_count": 28,
   "id": "b3fe27ec",
   "metadata": {},
   "outputs": [
    {
     "data": {
      "text/html": [
       "<div>\n",
       "<style scoped>\n",
       "    .dataframe tbody tr th:only-of-type {\n",
       "        vertical-align: middle;\n",
       "    }\n",
       "\n",
       "    .dataframe tbody tr th {\n",
       "        vertical-align: top;\n",
       "    }\n",
       "\n",
       "    .dataframe thead th {\n",
       "        text-align: right;\n",
       "    }\n",
       "</style>\n",
       "<table border=\"1\" class=\"dataframe\">\n",
       "  <thead>\n",
       "    <tr style=\"text-align: right;\">\n",
       "      <th></th>\n",
       "      <th>title</th>\n",
       "      <th>year</th>\n",
       "      <th>n</th>\n",
       "    </tr>\n",
       "  </thead>\n",
       "  <tbody>\n",
       "    <tr>\n",
       "      <th>314691</th>\n",
       "      <td>Sleuth</td>\n",
       "      <td>1972.0</td>\n",
       "      <td>2.0</td>\n",
       "    </tr>\n",
       "    <tr>\n",
       "      <th>360365</th>\n",
       "      <td>Sleuth</td>\n",
       "      <td>1972.0</td>\n",
       "      <td>3.0</td>\n",
       "    </tr>\n",
       "    <tr>\n",
       "      <th>1396572</th>\n",
       "      <td>Sleuth</td>\n",
       "      <td>1972.0</td>\n",
       "      <td>6.0</td>\n",
       "    </tr>\n",
       "    <tr>\n",
       "      <th>1412647</th>\n",
       "      <td>Sleuth</td>\n",
       "      <td>1972.0</td>\n",
       "      <td>4.0</td>\n",
       "    </tr>\n",
       "    <tr>\n",
       "      <th>1644328</th>\n",
       "      <td>Sleuth</td>\n",
       "      <td>1972.0</td>\n",
       "      <td>1.0</td>\n",
       "    </tr>\n",
       "  </tbody>\n",
       "</table>\n",
       "</div>"
      ],
      "text/plain": [
       "          title    year    n\n",
       "314691   Sleuth  1972.0  2.0\n",
       "360365   Sleuth  1972.0  3.0\n",
       "1396572  Sleuth  1972.0  6.0\n",
       "1412647  Sleuth  1972.0  4.0\n",
       "1644328  Sleuth  1972.0  1.0"
      ]
     },
     "execution_count": 28,
     "metadata": {},
     "output_type": "execute_result"
    }
   ],
   "source": [
    "n_order('Sleuth',1972)"
   ]
  },
  {
   "cell_type": "markdown",
   "id": "bd7df021",
   "metadata": {},
   "source": [
    "### Now display the entire cast, in \"n\"-order, of the 2007 version of \"Sleuth\"."
   ]
  },
  {
   "cell_type": "code",
   "execution_count": 29,
   "id": "c7c7fe7a",
   "metadata": {},
   "outputs": [
    {
     "data": {
      "text/html": [
       "<div>\n",
       "<style scoped>\n",
       "    .dataframe tbody tr th:only-of-type {\n",
       "        vertical-align: middle;\n",
       "    }\n",
       "\n",
       "    .dataframe tbody tr th {\n",
       "        vertical-align: top;\n",
       "    }\n",
       "\n",
       "    .dataframe thead th {\n",
       "        text-align: right;\n",
       "    }\n",
       "</style>\n",
       "<table border=\"1\" class=\"dataframe\">\n",
       "  <thead>\n",
       "    <tr style=\"text-align: right;\">\n",
       "      <th></th>\n",
       "      <th>title</th>\n",
       "      <th>year</th>\n",
       "      <th>n</th>\n",
       "    </tr>\n",
       "  </thead>\n",
       "  <tbody>\n",
       "    <tr>\n",
       "      <th>250297</th>\n",
       "      <td>Sleuth</td>\n",
       "      <td>2007.0</td>\n",
       "      <td>NaN</td>\n",
       "    </tr>\n",
       "    <tr>\n",
       "      <th>314692</th>\n",
       "      <td>Sleuth</td>\n",
       "      <td>2007.0</td>\n",
       "      <td>1.0</td>\n",
       "    </tr>\n",
       "    <tr>\n",
       "      <th>360366</th>\n",
       "      <td>Sleuth</td>\n",
       "      <td>2007.0</td>\n",
       "      <td>NaN</td>\n",
       "    </tr>\n",
       "    <tr>\n",
       "      <th>1246855</th>\n",
       "      <td>Sleuth</td>\n",
       "      <td>2007.0</td>\n",
       "      <td>2.0</td>\n",
       "    </tr>\n",
       "    <tr>\n",
       "      <th>1741124</th>\n",
       "      <td>Sleuth</td>\n",
       "      <td>2007.0</td>\n",
       "      <td>3.0</td>\n",
       "    </tr>\n",
       "  </tbody>\n",
       "</table>\n",
       "</div>"
      ],
      "text/plain": [
       "          title    year    n\n",
       "250297   Sleuth  2007.0  NaN\n",
       "314692   Sleuth  2007.0  1.0\n",
       "360366   Sleuth  2007.0  NaN\n",
       "1246855  Sleuth  2007.0  2.0\n",
       "1741124  Sleuth  2007.0  3.0"
      ]
     },
     "execution_count": 29,
     "metadata": {},
     "output_type": "execute_result"
    }
   ],
   "source": [
    "n_order('Sleuth',2007)"
   ]
  },
  {
   "cell_type": "markdown",
   "id": "0902a89d",
   "metadata": {},
   "source": [
    "### How many roles were credited in the silent 1921 version of Hamlet?"
   ]
  },
  {
   "cell_type": "code",
   "execution_count": 30,
   "id": "43c98ae5",
   "metadata": {},
   "outputs": [],
   "source": [
    "def roles(t,y):\n",
    "    value = len(cast[(cast['title'] == t) & (cast['year'] == y)])\n",
    "    return value"
   ]
  },
  {
   "cell_type": "code",
   "execution_count": 32,
   "id": "56e70605",
   "metadata": {},
   "outputs": [
    {
     "name": "stdout",
     "output_type": "stream",
     "text": [
      "The no.of roles credited for 'Hamlet' in '1921' were 5\n"
     ]
    }
   ],
   "source": [
    "r = roles('Hamlet',1921)\n",
    "print(\"The no.of roles credited for 'Hamlet' in '1921' were {}\".format(r))"
   ]
  },
  {
   "cell_type": "markdown",
   "id": "f97065dd",
   "metadata": {},
   "source": [
    "### How many roles were credited in Branagh’s 1996 Hamlet?"
   ]
  },
  {
   "cell_type": "code",
   "execution_count": 34,
   "id": "c260b208",
   "metadata": {},
   "outputs": [
    {
     "name": "stdout",
     "output_type": "stream",
     "text": [
      "The no.of roles credited for 'Hamlet' in '1996' were 38\n"
     ]
    }
   ],
   "source": [
    "r = roles('Hamlet',1996)\n",
    "print(\"The no.of roles credited for 'Hamlet' in '1996' were {}\".format(r))"
   ]
  },
  {
   "cell_type": "markdown",
   "id": "10e0c97c",
   "metadata": {},
   "source": [
    "### How many \"Hamlet\" roles have been listed in all film credits through history?"
   ]
  },
  {
   "cell_type": "code",
   "execution_count": 35,
   "id": "31650ff6",
   "metadata": {},
   "outputs": [],
   "source": [
    "def length(x):\n",
    "    value = len(cast[cast.character == x])\n",
    "    return value"
   ]
  },
  {
   "cell_type": "code",
   "execution_count": 39,
   "id": "cc8890f0",
   "metadata": {},
   "outputs": [
    {
     "name": "stdout",
     "output_type": "stream",
     "text": [
      "The no.of roles have been istedd in all film credit through history were '78'\n"
     ]
    }
   ],
   "source": [
    "l = length('Hamlet')\n",
    "print(\"The no.of roles have been istedd in all film credit through history were '{}'\".format(l))"
   ]
  },
  {
   "cell_type": "markdown",
   "id": "f364f3d9",
   "metadata": {},
   "source": [
    "### How many people have played an \"Ophelia\"?"
   ]
  },
  {
   "cell_type": "code",
   "execution_count": 40,
   "id": "406b03ae",
   "metadata": {},
   "outputs": [
    {
     "name": "stdout",
     "output_type": "stream",
     "text": [
      "The no.of roles have been istedd in all film credit through history were '7'\n"
     ]
    }
   ],
   "source": [
    "l = length('Ophelia')\n",
    "print(\"The no.of roles have been istedd in all film credit through history were '{}'\".format(l))"
   ]
  },
  {
   "cell_type": "markdown",
   "id": "538d87a5",
   "metadata": {},
   "source": [
    "### How many people have played a role called \"The Dude\"?"
   ]
  },
  {
   "cell_type": "code",
   "execution_count": 42,
   "id": "1bafd6b0",
   "metadata": {},
   "outputs": [
    {
     "name": "stdout",
     "output_type": "stream",
     "text": [
      "The no.of roles have been istedd in all film credit through history were '16'\n"
     ]
    }
   ],
   "source": [
    "l = length('The Dude')\n",
    "print(\"The no.of roles have been istedd in all film credit through history were '{}'\".format(l))"
   ]
  },
  {
   "cell_type": "markdown",
   "id": "379d5669",
   "metadata": {},
   "source": [
    "### How many people have played a role called \"The Stranger\"?"
   ]
  },
  {
   "cell_type": "code",
   "execution_count": 43,
   "id": "55ddd380",
   "metadata": {},
   "outputs": [
    {
     "name": "stdout",
     "output_type": "stream",
     "text": [
      "The no.of roles have been istedd in all film credit through history were '184'\n"
     ]
    }
   ],
   "source": [
    "l = length('The Stranger')\n",
    "print(\"The no.of roles have been istedd in all film credit through history were '{}'\".format(l))"
   ]
  },
  {
   "cell_type": "markdown",
   "id": "a99f96ff",
   "metadata": {},
   "source": [
    "### How many roles has Sidney Poitier played throughout his career?"
   ]
  },
  {
   "cell_type": "code",
   "execution_count": 45,
   "id": "3fba16c6",
   "metadata": {},
   "outputs": [],
   "source": [
    "def name(x):\n",
    "    value = len(cast[(cast.name == x)])\n",
    "    return value"
   ]
  },
  {
   "cell_type": "code",
   "execution_count": 47,
   "id": "0d3ebc78",
   "metadata": {},
   "outputs": [
    {
     "name": "stdout",
     "output_type": "stream",
     "text": [
      "The no.of roles has played by Sidney Poitier were '43'\n"
     ]
    }
   ],
   "source": [
    "n = name(\"Sidney Poitier\")\n",
    "print(\"The no.of roles has played by Sidney Poitier were '{}'\".format(n))"
   ]
  },
  {
   "cell_type": "markdown",
   "id": "5d8fe24e",
   "metadata": {},
   "source": [
    "### How many roles has Judi Dench played?"
   ]
  },
  {
   "cell_type": "code",
   "execution_count": 48,
   "id": "31faaf0c",
   "metadata": {},
   "outputs": [
    {
     "name": "stdout",
     "output_type": "stream",
     "text": [
      "The no.of roles has played by Judi Dench were '0'\n"
     ]
    }
   ],
   "source": [
    "n = name(\"Judi Dench \")\n",
    "print(\"The no.of roles has played by Judi Dench were '{}'\".format(n))"
   ]
  },
  {
   "cell_type": "markdown",
   "id": "374f3269",
   "metadata": {},
   "source": [
    "### List the supporting roles (having n=2) played by Cary Grant in the 1940s, in order by year."
   ]
  },
  {
   "cell_type": "code",
   "execution_count": 49,
   "id": "528bdda6",
   "metadata": {},
   "outputs": [],
   "source": [
    "def disp(x,y,z):\n",
    "    value = cast[(cast.n == x) & (cast.name == y) & (cast.year == z)].sort_values(by = 'year')\n",
    "    return value"
   ]
  },
  {
   "cell_type": "code",
   "execution_count": 50,
   "id": "db263755",
   "metadata": {},
   "outputs": [
    {
     "data": {
      "text/html": [
       "<div>\n",
       "<style scoped>\n",
       "    .dataframe tbody tr th:only-of-type {\n",
       "        vertical-align: middle;\n",
       "    }\n",
       "\n",
       "    .dataframe tbody tr th {\n",
       "        vertical-align: top;\n",
       "    }\n",
       "\n",
       "    .dataframe thead th {\n",
       "        text-align: right;\n",
       "    }\n",
       "</style>\n",
       "<table border=\"1\" class=\"dataframe\">\n",
       "  <thead>\n",
       "    <tr style=\"text-align: right;\">\n",
       "      <th></th>\n",
       "      <th>title</th>\n",
       "      <th>year</th>\n",
       "      <th>name</th>\n",
       "      <th>type</th>\n",
       "      <th>character</th>\n",
       "      <th>n</th>\n",
       "    </tr>\n",
       "  </thead>\n",
       "  <tbody>\n",
       "    <tr>\n",
       "      <th>840371</th>\n",
       "      <td>My Favorite Wife</td>\n",
       "      <td>1940.0</td>\n",
       "      <td>Cary Grant</td>\n",
       "      <td>actor</td>\n",
       "      <td>Nick</td>\n",
       "      <td>2.0</td>\n",
       "    </tr>\n",
       "  </tbody>\n",
       "</table>\n",
       "</div>"
      ],
      "text/plain": [
       "                   title    year        name   type character    n\n",
       "840371  My Favorite Wife  1940.0  Cary Grant  actor      Nick  2.0"
      ]
     },
     "execution_count": 50,
     "metadata": {},
     "output_type": "execute_result"
    }
   ],
   "source": [
    "disp(2,'Cary Grant',1940)"
   ]
  },
  {
   "cell_type": "markdown",
   "id": "875c320e",
   "metadata": {},
   "source": [
    "### List the leading roles that Cary Grant played in the 1940s in order by year."
   ]
  },
  {
   "cell_type": "code",
   "execution_count": 51,
   "id": "8681f6dd",
   "metadata": {},
   "outputs": [
    {
     "data": {
      "text/html": [
       "<div>\n",
       "<style scoped>\n",
       "    .dataframe tbody tr th:only-of-type {\n",
       "        vertical-align: middle;\n",
       "    }\n",
       "\n",
       "    .dataframe tbody tr th {\n",
       "        vertical-align: top;\n",
       "    }\n",
       "\n",
       "    .dataframe thead th {\n",
       "        text-align: right;\n",
       "    }\n",
       "</style>\n",
       "<table border=\"1\" class=\"dataframe\">\n",
       "  <thead>\n",
       "    <tr style=\"text-align: right;\">\n",
       "      <th></th>\n",
       "      <th>title</th>\n",
       "      <th>year</th>\n",
       "      <th>name</th>\n",
       "      <th>type</th>\n",
       "      <th>character</th>\n",
       "      <th>n</th>\n",
       "    </tr>\n",
       "  </thead>\n",
       "  <tbody>\n",
       "    <tr>\n",
       "      <th>840353</th>\n",
       "      <td>His Girl Friday</td>\n",
       "      <td>1940.0</td>\n",
       "      <td>Cary Grant</td>\n",
       "      <td>actor</td>\n",
       "      <td>Walter Burns</td>\n",
       "      <td>1.0</td>\n",
       "    </tr>\n",
       "    <tr>\n",
       "      <th>840397</th>\n",
       "      <td>The Howards of Virginia</td>\n",
       "      <td>1940.0</td>\n",
       "      <td>Cary Grant</td>\n",
       "      <td>actor</td>\n",
       "      <td>Matt Howard</td>\n",
       "      <td>1.0</td>\n",
       "    </tr>\n",
       "    <tr>\n",
       "      <th>840399</th>\n",
       "      <td>The Philadelphia Story</td>\n",
       "      <td>1940.0</td>\n",
       "      <td>Cary Grant</td>\n",
       "      <td>actor</td>\n",
       "      <td>C. K. Dexter Haven</td>\n",
       "      <td>1.0</td>\n",
       "    </tr>\n",
       "  </tbody>\n",
       "</table>\n",
       "</div>"
      ],
      "text/plain": [
       "                          title    year        name   type  \\\n",
       "840353          His Girl Friday  1940.0  Cary Grant  actor   \n",
       "840397  The Howards of Virginia  1940.0  Cary Grant  actor   \n",
       "840399   The Philadelphia Story  1940.0  Cary Grant  actor   \n",
       "\n",
       "                 character    n  \n",
       "840353        Walter Burns  1.0  \n",
       "840397         Matt Howard  1.0  \n",
       "840399  C. K. Dexter Haven  1.0  "
      ]
     },
     "execution_count": 51,
     "metadata": {},
     "output_type": "execute_result"
    }
   ],
   "source": [
    "disp(1,'Cary Grant',1940)"
   ]
  },
  {
   "cell_type": "markdown",
   "id": "8f0354b7",
   "metadata": {},
   "source": [
    "### How many roles were available for actors in the 1950s"
   ]
  },
  {
   "cell_type": "code",
   "execution_count": 52,
   "id": "085e4c49",
   "metadata": {},
   "outputs": [],
   "source": [
    "def char_type(x,y):\n",
    "    value = len(cast[(cast.type == x) & (cast.year == y)].sort_values(by = 'year'))\n",
    "    return value"
   ]
  },
  {
   "cell_type": "code",
   "execution_count": 54,
   "id": "cfb7db75",
   "metadata": {},
   "outputs": [
    {
     "name": "stdout",
     "output_type": "stream",
     "text": [
      "The no.of roles were available for actors in the 1950s were '14653'\n"
     ]
    }
   ],
   "source": [
    "c = char_type('actor',1950)\n",
    "print(\"The no.of roles were available for actors in the 1950s were '{}'\".format(c))"
   ]
  },
  {
   "cell_type": "markdown",
   "id": "a71a5194",
   "metadata": {},
   "source": [
    "### How many roles were available for actresses in the 1950s?"
   ]
  },
  {
   "cell_type": "code",
   "execution_count": 56,
   "id": "6b93966c",
   "metadata": {},
   "outputs": [
    {
     "name": "stdout",
     "output_type": "stream",
     "text": [
      "The no.of roles were available for actresses in the 1950s were '0'\n"
     ]
    }
   ],
   "source": [
    "c = char_type('actresses',1950)\n",
    "print(\"The no.of roles were available for actresses in the 1950s were '{}'\".format(c))"
   ]
  },
  {
   "cell_type": "markdown",
   "id": "5d83b93a",
   "metadata": {},
   "source": [
    "### How many leading roles (n=1) were available from the beginning of film history through 1980?"
   ]
  },
  {
   "cell_type": "code",
   "execution_count": 57,
   "id": "f03e2ed5",
   "metadata": {},
   "outputs": [
    {
     "name": "stdout",
     "output_type": "stream",
     "text": [
      "The no.of leading roles were available from the begining of film history through 1980 were '53099'\n"
     ]
    }
   ],
   "source": [
    "r = len(cast[(cast.year >= 1980) &  (cast.n == 1)])\n",
    "print(\"The no.of leading roles were available from the begining of film history through 1980 were '{}'\".format(r))"
   ]
  },
  {
   "cell_type": "markdown",
   "id": "d38420df",
   "metadata": {},
   "source": [
    "### How many non-leading roles were available through from the beginning of film history through 1980?"
   ]
  },
  {
   "cell_type": "code",
   "execution_count": 58,
   "id": "7dd845c0",
   "metadata": {},
   "outputs": [
    {
     "name": "stdout",
     "output_type": "stream",
     "text": [
      "The no.of leading roles were available from the begining of film history through 1980 were '38597'\n"
     ]
    }
   ],
   "source": [
    "r = len(cast[(cast.year >= 1980) &  (cast.n == 2)])\n",
    "print(\"The no.of non-leading roles were available from the begining of film history through 1980 were '{}'\".format(r))"
   ]
  },
  {
   "cell_type": "markdown",
   "id": "56806ae4",
   "metadata": {},
   "source": [
    "### How many roles through 1980 were minor enough that they did not warrant a numeric \"n\" rank?"
   ]
  },
  {
   "cell_type": "code",
   "execution_count": 60,
   "id": "3cca61ae",
   "metadata": {},
   "outputs": [
    {
     "name": "stdout",
     "output_type": "stream",
     "text": [
      "The no.of roles through 1980 that they not a numeric 'n' rank were '544058'\n"
     ]
    }
   ],
   "source": [
    "r = len(cast[(cast.year >= 1980) & (cast.n.isnull())])\n",
    "print(\"The no.of roles through 1980 that they not a numeric 'n' rank were '{}'\".format(r))"
   ]
  },
  {
   "cell_type": "code",
   "execution_count": null,
   "id": "7e55684a",
   "metadata": {},
   "outputs": [],
   "source": []
  }
 ],
 "metadata": {
  "kernelspec": {
   "display_name": "Python 3 (ipykernel)",
   "language": "python",
   "name": "python3"
  },
  "language_info": {
   "codemirror_mode": {
    "name": "ipython",
    "version": 3
   },
   "file_extension": ".py",
   "mimetype": "text/x-python",
   "name": "python",
   "nbconvert_exporter": "python",
   "pygments_lexer": "ipython3",
   "version": "3.9.12"
  }
 },
 "nbformat": 4,
 "nbformat_minor": 5
}

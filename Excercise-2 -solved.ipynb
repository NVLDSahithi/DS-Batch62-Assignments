{
 "cells": [
  {
   "cell_type": "code",
   "execution_count": 2,
   "id": "a5ba86e1",
   "metadata": {},
   "outputs": [],
   "source": [
    "%matplotlib inline\n",
    "import pandas as pd\n",
    "import seaborn as sns\n",
    "import time"
   ]
  },
  {
   "cell_type": "code",
   "execution_count": 5,
   "id": "3bcc3eb6",
   "metadata": {},
   "outputs": [
    {
     "data": {
      "text/html": [
       "<div>\n",
       "<style scoped>\n",
       "    .dataframe tbody tr th:only-of-type {\n",
       "        vertical-align: middle;\n",
       "    }\n",
       "\n",
       "    .dataframe tbody tr th {\n",
       "        vertical-align: top;\n",
       "    }\n",
       "\n",
       "    .dataframe thead th {\n",
       "        text-align: right;\n",
       "    }\n",
       "</style>\n",
       "<table border=\"1\" class=\"dataframe\">\n",
       "  <thead>\n",
       "    <tr style=\"text-align: right;\">\n",
       "      <th></th>\n",
       "      <th>title</th>\n",
       "      <th>year</th>\n",
       "    </tr>\n",
       "  </thead>\n",
       "  <tbody>\n",
       "    <tr>\n",
       "      <th>0</th>\n",
       "      <td>The Rising Son</td>\n",
       "      <td>1990</td>\n",
       "    </tr>\n",
       "    <tr>\n",
       "      <th>1</th>\n",
       "      <td>The Thousand Plane Raid</td>\n",
       "      <td>1969</td>\n",
       "    </tr>\n",
       "    <tr>\n",
       "      <th>2</th>\n",
       "      <td>Crucea de piatra</td>\n",
       "      <td>1993</td>\n",
       "    </tr>\n",
       "    <tr>\n",
       "      <th>3</th>\n",
       "      <td>Country</td>\n",
       "      <td>2000</td>\n",
       "    </tr>\n",
       "    <tr>\n",
       "      <th>4</th>\n",
       "      <td>Gaiking II</td>\n",
       "      <td>2011</td>\n",
       "    </tr>\n",
       "  </tbody>\n",
       "</table>\n",
       "</div>"
      ],
      "text/plain": [
       "                     title  year\n",
       "0           The Rising Son  1990\n",
       "1  The Thousand Plane Raid  1969\n",
       "2         Crucea de piatra  1993\n",
       "3                  Country  2000\n",
       "4               Gaiking II  2011"
      ]
     },
     "execution_count": 5,
     "metadata": {},
     "output_type": "execute_result"
    }
   ],
   "source": [
    "titles = pd.read_csv('C:/Users/DELL/Desktop/Datascience Course/titles.csv')\n",
    "titles.head()"
   ]
  },
  {
   "cell_type": "code",
   "execution_count": 6,
   "id": "e0dbbcff",
   "metadata": {},
   "outputs": [
    {
     "data": {
      "text/html": [
       "<div>\n",
       "<style scoped>\n",
       "    .dataframe tbody tr th:only-of-type {\n",
       "        vertical-align: middle;\n",
       "    }\n",
       "\n",
       "    .dataframe tbody tr th {\n",
       "        vertical-align: top;\n",
       "    }\n",
       "\n",
       "    .dataframe thead th {\n",
       "        text-align: right;\n",
       "    }\n",
       "</style>\n",
       "<table border=\"1\" class=\"dataframe\">\n",
       "  <thead>\n",
       "    <tr style=\"text-align: right;\">\n",
       "      <th></th>\n",
       "      <th>title</th>\n",
       "      <th>year</th>\n",
       "      <th>name</th>\n",
       "      <th>type</th>\n",
       "      <th>character</th>\n",
       "      <th>n</th>\n",
       "      <th>1029932</th>\n",
       "    </tr>\n",
       "  </thead>\n",
       "  <tbody>\n",
       "    <tr>\n",
       "      <th>0</th>\n",
       "      <td>Miss Jerry</td>\n",
       "      <td>1894</td>\n",
       "      <td>Chauncey Depew</td>\n",
       "      <td>actor</td>\n",
       "      <td>Himself - the Director of the New York Central...</td>\n",
       "      <td>NaN</td>\n",
       "      <td>NaN</td>\n",
       "    </tr>\n",
       "    <tr>\n",
       "      <th>1</th>\n",
       "      <td>Miss Jerry</td>\n",
       "      <td>1894</td>\n",
       "      <td>William Courtenay</td>\n",
       "      <td>actor</td>\n",
       "      <td>Mr. Hamilton</td>\n",
       "      <td>NaN</td>\n",
       "      <td>NaN</td>\n",
       "    </tr>\n",
       "    <tr>\n",
       "      <th>2</th>\n",
       "      <td>Valsons</td>\n",
       "      <td>1905</td>\n",
       "      <td>Armand Dranem</td>\n",
       "      <td>actor</td>\n",
       "      <td>Himself</td>\n",
       "      <td>NaN</td>\n",
       "      <td>NaN</td>\n",
       "    </tr>\n",
       "    <tr>\n",
       "      <th>3</th>\n",
       "      <td>The Story of the Kelly Gang</td>\n",
       "      <td>1906</td>\n",
       "      <td>Jack (II) Ennis</td>\n",
       "      <td>actor</td>\n",
       "      <td>Steve Hart</td>\n",
       "      <td>NaN</td>\n",
       "      <td>NaN</td>\n",
       "    </tr>\n",
       "    <tr>\n",
       "      <th>4</th>\n",
       "      <td>The Joe Gans-Battling Nelson Fight</td>\n",
       "      <td>1906</td>\n",
       "      <td>Joe Gans</td>\n",
       "      <td>actor</td>\n",
       "      <td>Himself</td>\n",
       "      <td>1.0</td>\n",
       "      <td>NaN</td>\n",
       "    </tr>\n",
       "  </tbody>\n",
       "</table>\n",
       "</div>"
      ],
      "text/plain": [
       "                                title  year               name   type  \\\n",
       "0                          Miss Jerry  1894     Chauncey Depew  actor   \n",
       "1                          Miss Jerry  1894  William Courtenay  actor   \n",
       "2                             Valsons  1905      Armand Dranem  actor   \n",
       "3         The Story of the Kelly Gang  1906    Jack (II) Ennis  actor   \n",
       "4  The Joe Gans-Battling Nelson Fight  1906           Joe Gans  actor   \n",
       "\n",
       "                                           character    n  1029932  \n",
       "0  Himself - the Director of the New York Central...  NaN      NaN  \n",
       "1                                       Mr. Hamilton  NaN      NaN  \n",
       "2                                            Himself  NaN      NaN  \n",
       "3                                         Steve Hart  NaN      NaN  \n",
       "4                                            Himself  1.0      NaN  "
      ]
     },
     "execution_count": 6,
     "metadata": {},
     "output_type": "execute_result"
    }
   ],
   "source": [
    "cast = pd.read_csv('C:/Users/DELL/Desktop/Datascience Course/cast.csv')\n",
    "cast.head()"
   ]
  },
  {
   "cell_type": "code",
   "execution_count": 7,
   "id": "91eeea83",
   "metadata": {},
   "outputs": [
    {
     "data": {
      "text/html": [
       "<div>\n",
       "<style scoped>\n",
       "    .dataframe tbody tr th:only-of-type {\n",
       "        vertical-align: middle;\n",
       "    }\n",
       "\n",
       "    .dataframe tbody tr th {\n",
       "        vertical-align: top;\n",
       "    }\n",
       "\n",
       "    .dataframe thead th {\n",
       "        text-align: right;\n",
       "    }\n",
       "</style>\n",
       "<table border=\"1\" class=\"dataframe\">\n",
       "  <thead>\n",
       "    <tr style=\"text-align: right;\">\n",
       "      <th></th>\n",
       "      <th>title</th>\n",
       "      <th>year</th>\n",
       "      <th>name</th>\n",
       "      <th>type</th>\n",
       "      <th>character</th>\n",
       "      <th>n</th>\n",
       "      <th>1029932</th>\n",
       "    </tr>\n",
       "  </thead>\n",
       "  <tbody>\n",
       "    <tr>\n",
       "      <th>0</th>\n",
       "      <td>The Rising Son</td>\n",
       "      <td>1990</td>\n",
       "      <td>NaN</td>\n",
       "      <td>NaN</td>\n",
       "      <td>NaN</td>\n",
       "      <td>NaN</td>\n",
       "      <td>NaN</td>\n",
       "    </tr>\n",
       "    <tr>\n",
       "      <th>1</th>\n",
       "      <td>The Thousand Plane Raid</td>\n",
       "      <td>1969</td>\n",
       "      <td>NaN</td>\n",
       "      <td>NaN</td>\n",
       "      <td>NaN</td>\n",
       "      <td>NaN</td>\n",
       "      <td>NaN</td>\n",
       "    </tr>\n",
       "    <tr>\n",
       "      <th>2</th>\n",
       "      <td>Crucea de piatra</td>\n",
       "      <td>1993</td>\n",
       "      <td>NaN</td>\n",
       "      <td>NaN</td>\n",
       "      <td>NaN</td>\n",
       "      <td>NaN</td>\n",
       "      <td>NaN</td>\n",
       "    </tr>\n",
       "    <tr>\n",
       "      <th>3</th>\n",
       "      <td>Country</td>\n",
       "      <td>2000</td>\n",
       "      <td>NaN</td>\n",
       "      <td>NaN</td>\n",
       "      <td>NaN</td>\n",
       "      <td>NaN</td>\n",
       "      <td>NaN</td>\n",
       "    </tr>\n",
       "    <tr>\n",
       "      <th>4</th>\n",
       "      <td>Gaiking II</td>\n",
       "      <td>2011</td>\n",
       "      <td>NaN</td>\n",
       "      <td>NaN</td>\n",
       "      <td>NaN</td>\n",
       "      <td>NaN</td>\n",
       "      <td>NaN</td>\n",
       "    </tr>\n",
       "    <tr>\n",
       "      <th>...</th>\n",
       "      <td>...</td>\n",
       "      <td>...</td>\n",
       "      <td>...</td>\n",
       "      <td>...</td>\n",
       "      <td>...</td>\n",
       "      <td>...</td>\n",
       "      <td>...</td>\n",
       "    </tr>\n",
       "    <tr>\n",
       "      <th>1048570</th>\n",
       "      <td>Clutch Control</td>\n",
       "      <td>2022</td>\n",
       "      <td>Josh (XXII) Baker</td>\n",
       "      <td>actor</td>\n",
       "      <td>Alex Simmons</td>\n",
       "      <td>NaN</td>\n",
       "      <td>NaN</td>\n",
       "    </tr>\n",
       "    <tr>\n",
       "      <th>1048571</th>\n",
       "      <td>Clutch Control</td>\n",
       "      <td>2022</td>\n",
       "      <td>Karl Hughes</td>\n",
       "      <td>actor</td>\n",
       "      <td>Dewie Dayton</td>\n",
       "      <td>NaN</td>\n",
       "      <td>NaN</td>\n",
       "    </tr>\n",
       "    <tr>\n",
       "      <th>1048572</th>\n",
       "      <td>The Burning Skies</td>\n",
       "      <td>2022</td>\n",
       "      <td>Noah Hobbs</td>\n",
       "      <td>actor</td>\n",
       "      <td>Will Norton</td>\n",
       "      <td>NaN</td>\n",
       "      <td>NaN</td>\n",
       "    </tr>\n",
       "    <tr>\n",
       "      <th>1048573</th>\n",
       "      <td>Out of the Mountains</td>\n",
       "      <td>2022</td>\n",
       "      <td>Tallis Clayton</td>\n",
       "      <td>actor</td>\n",
       "      <td>John Allen</td>\n",
       "      <td>NaN</td>\n",
       "      <td>NaN</td>\n",
       "    </tr>\n",
       "    <tr>\n",
       "      <th>1048574</th>\n",
       "      <td>Inside Me</td>\n",
       "      <td>2023</td>\n",
       "      <td>Antonio Alcala</td>\n",
       "      <td>actor</td>\n",
       "      <td>Max</td>\n",
       "      <td>NaN</td>\n",
       "      <td>NaN</td>\n",
       "    </tr>\n",
       "  </tbody>\n",
       "</table>\n",
       "<p>1279196 rows × 7 columns</p>\n",
       "</div>"
      ],
      "text/plain": [
       "                           title  year               name   type  \\\n",
       "0                 The Rising Son  1990                NaN    NaN   \n",
       "1        The Thousand Plane Raid  1969                NaN    NaN   \n",
       "2               Crucea de piatra  1993                NaN    NaN   \n",
       "3                        Country  2000                NaN    NaN   \n",
       "4                     Gaiking II  2011                NaN    NaN   \n",
       "...                          ...   ...                ...    ...   \n",
       "1048570           Clutch Control  2022  Josh (XXII) Baker  actor   \n",
       "1048571           Clutch Control  2022        Karl Hughes  actor   \n",
       "1048572        The Burning Skies  2022         Noah Hobbs  actor   \n",
       "1048573     Out of the Mountains  2022     Tallis Clayton  actor   \n",
       "1048574                Inside Me  2023     Antonio Alcala  actor   \n",
       "\n",
       "            character   n  1029932  \n",
       "0                 NaN NaN      NaN  \n",
       "1                 NaN NaN      NaN  \n",
       "2                 NaN NaN      NaN  \n",
       "3                 NaN NaN      NaN  \n",
       "4                 NaN NaN      NaN  \n",
       "...               ...  ..      ...  \n",
       "1048570  Alex Simmons NaN      NaN  \n",
       "1048571  Dewie Dayton NaN      NaN  \n",
       "1048572   Will Norton NaN      NaN  \n",
       "1048573    John Allen NaN      NaN  \n",
       "1048574           Max NaN      NaN  \n",
       "\n",
       "[1279196 rows x 7 columns]"
      ]
     },
     "execution_count": 7,
     "metadata": {},
     "output_type": "execute_result"
    }
   ],
   "source": [
    "pd.concat([titles,cast])"
   ]
  },
  {
   "cell_type": "code",
   "execution_count": 28,
   "id": "84041497",
   "metadata": {},
   "outputs": [],
   "source": [
    "merge_data = titles.merge(cast, on=['title','year'], how = 'outer')"
   ]
  },
  {
   "cell_type": "code",
   "execution_count": 29,
   "id": "b972a6fa",
   "metadata": {},
   "outputs": [
    {
     "data": {
      "text/html": [
       "<div>\n",
       "<style scoped>\n",
       "    .dataframe tbody tr th:only-of-type {\n",
       "        vertical-align: middle;\n",
       "    }\n",
       "\n",
       "    .dataframe tbody tr th {\n",
       "        vertical-align: top;\n",
       "    }\n",
       "\n",
       "    .dataframe thead th {\n",
       "        text-align: right;\n",
       "    }\n",
       "</style>\n",
       "<table border=\"1\" class=\"dataframe\">\n",
       "  <thead>\n",
       "    <tr style=\"text-align: right;\">\n",
       "      <th></th>\n",
       "      <th>title</th>\n",
       "      <th>year</th>\n",
       "      <th>name</th>\n",
       "      <th>type</th>\n",
       "      <th>character</th>\n",
       "      <th>n</th>\n",
       "      <th>1029932</th>\n",
       "    </tr>\n",
       "  </thead>\n",
       "  <tbody>\n",
       "    <tr>\n",
       "      <th>0</th>\n",
       "      <td>The Rising Son</td>\n",
       "      <td>1990</td>\n",
       "      <td>NaN</td>\n",
       "      <td>NaN</td>\n",
       "      <td>NaN</td>\n",
       "      <td>NaN</td>\n",
       "      <td>NaN</td>\n",
       "    </tr>\n",
       "    <tr>\n",
       "      <th>1</th>\n",
       "      <td>The Thousand Plane Raid</td>\n",
       "      <td>1969</td>\n",
       "      <td>Barry Atwater</td>\n",
       "      <td>actor</td>\n",
       "      <td>Gen. Conway</td>\n",
       "      <td>11.0</td>\n",
       "      <td>NaN</td>\n",
       "    </tr>\n",
       "    <tr>\n",
       "      <th>2</th>\n",
       "      <td>The Thousand Plane Raid</td>\n",
       "      <td>1969</td>\n",
       "      <td>Bo Hopkins</td>\n",
       "      <td>actor</td>\n",
       "      <td>Capt. Douglass</td>\n",
       "      <td>9.0</td>\n",
       "      <td>NaN</td>\n",
       "    </tr>\n",
       "    <tr>\n",
       "      <th>3</th>\n",
       "      <td>The Thousand Plane Raid</td>\n",
       "      <td>1969</td>\n",
       "      <td>Charles Dierkop</td>\n",
       "      <td>actor</td>\n",
       "      <td>Railla</td>\n",
       "      <td>15.0</td>\n",
       "      <td>NaN</td>\n",
       "    </tr>\n",
       "    <tr>\n",
       "      <th>4</th>\n",
       "      <td>The Thousand Plane Raid</td>\n",
       "      <td>1969</td>\n",
       "      <td>Christopher George</td>\n",
       "      <td>actor</td>\n",
       "      <td>Col. Greg Brandon</td>\n",
       "      <td>1.0</td>\n",
       "      <td>NaN</td>\n",
       "    </tr>\n",
       "    <tr>\n",
       "      <th>...</th>\n",
       "      <td>...</td>\n",
       "      <td>...</td>\n",
       "      <td>...</td>\n",
       "      <td>...</td>\n",
       "      <td>...</td>\n",
       "      <td>...</td>\n",
       "      <td>...</td>\n",
       "    </tr>\n",
       "    <tr>\n",
       "      <th>1115169</th>\n",
       "      <td>1-Jan</td>\n",
       "      <td>2016</td>\n",
       "      <td>Troy Bogdan</td>\n",
       "      <td>actor</td>\n",
       "      <td>Union Meeting Attendee</td>\n",
       "      <td>NaN</td>\n",
       "      <td>NaN</td>\n",
       "    </tr>\n",
       "    <tr>\n",
       "      <th>1115170</th>\n",
       "      <td>2-Jan</td>\n",
       "      <td>2017</td>\n",
       "      <td>Antonio Buccarello</td>\n",
       "      <td>actor</td>\n",
       "      <td>Davide Grulli</td>\n",
       "      <td>NaN</td>\n",
       "      <td>NaN</td>\n",
       "    </tr>\n",
       "    <tr>\n",
       "      <th>1115171</th>\n",
       "      <td>2-Jan</td>\n",
       "      <td>2017</td>\n",
       "      <td>Fabrizio Croci</td>\n",
       "      <td>actor</td>\n",
       "      <td>Leo Baretti</td>\n",
       "      <td>4.0</td>\n",
       "      <td>NaN</td>\n",
       "    </tr>\n",
       "    <tr>\n",
       "      <th>1115172</th>\n",
       "      <td>2-Jan</td>\n",
       "      <td>2017</td>\n",
       "      <td>Piergiorgio Gallicani</td>\n",
       "      <td>actor</td>\n",
       "      <td>Padre</td>\n",
       "      <td>NaN</td>\n",
       "      <td>NaN</td>\n",
       "    </tr>\n",
       "    <tr>\n",
       "      <th>1115173</th>\n",
       "      <td>10/31/2016</td>\n",
       "      <td>2017</td>\n",
       "      <td>Greg (III) Fallon</td>\n",
       "      <td>actor</td>\n",
       "      <td>Peter McNeely</td>\n",
       "      <td>2.0</td>\n",
       "      <td>NaN</td>\n",
       "    </tr>\n",
       "  </tbody>\n",
       "</table>\n",
       "<p>1115174 rows × 7 columns</p>\n",
       "</div>"
      ],
      "text/plain": [
       "                           title  year                   name   type  \\\n",
       "0                 The Rising Son  1990                    NaN    NaN   \n",
       "1        The Thousand Plane Raid  1969          Barry Atwater  actor   \n",
       "2        The Thousand Plane Raid  1969             Bo Hopkins  actor   \n",
       "3        The Thousand Plane Raid  1969        Charles Dierkop  actor   \n",
       "4        The Thousand Plane Raid  1969     Christopher George  actor   \n",
       "...                          ...   ...                    ...    ...   \n",
       "1115169                    1-Jan  2016            Troy Bogdan  actor   \n",
       "1115170                    2-Jan  2017     Antonio Buccarello  actor   \n",
       "1115171                    2-Jan  2017         Fabrizio Croci  actor   \n",
       "1115172                    2-Jan  2017  Piergiorgio Gallicani  actor   \n",
       "1115173               10/31/2016  2017      Greg (III) Fallon  actor   \n",
       "\n",
       "                      character     n  1029932  \n",
       "0                           NaN   NaN      NaN  \n",
       "1                   Gen. Conway  11.0      NaN  \n",
       "2                Capt. Douglass   9.0      NaN  \n",
       "3                        Railla  15.0      NaN  \n",
       "4             Col. Greg Brandon   1.0      NaN  \n",
       "...                         ...   ...      ...  \n",
       "1115169  Union Meeting Attendee   NaN      NaN  \n",
       "1115170           Davide Grulli   NaN      NaN  \n",
       "1115171             Leo Baretti   4.0      NaN  \n",
       "1115172                   Padre   NaN      NaN  \n",
       "1115173           Peter McNeely   2.0      NaN  \n",
       "\n",
       "[1115174 rows x 7 columns]"
      ]
     },
     "execution_count": 29,
     "metadata": {},
     "output_type": "execute_result"
    }
   ],
   "source": [
    "merge_data"
   ]
  },
  {
   "cell_type": "code",
   "execution_count": 30,
   "id": "e6fe5657",
   "metadata": {},
   "outputs": [
    {
     "data": {
      "text/plain": [
       "title         object\n",
       "year           int64\n",
       "name          object\n",
       "type          object\n",
       "character     object\n",
       "n            float64\n",
       "1029932      float64\n",
       "dtype: object"
      ]
     },
     "execution_count": 30,
     "metadata": {},
     "output_type": "execute_result"
    }
   ],
   "source": [
    "merge_data.dtypes"
   ]
  },
  {
   "cell_type": "markdown",
   "id": "56dcbe9d",
   "metadata": {},
   "source": [
    "### What are the ten most common movie names of all time?"
   ]
  },
  {
   "cell_type": "code",
   "execution_count": 31,
   "id": "899f7d58",
   "metadata": {},
   "outputs": [
    {
     "data": {
      "text/plain": [
       "title\n",
       "Around the World in Eighty Days       383\n",
       "7 cajas                               191\n",
       "The Dark Knight Rises                 173\n",
       "The Ten Commandments                  167\n",
       "The Buccaneer                         158\n",
       "King Kong                             158\n",
       "Cockneys vs Zombies                   157\n",
       "Stuck on You                          153\n",
       "The Eschatrilogy: Book of the Dead    144\n",
       "Thelma                                139\n",
       "dtype: int64"
      ]
     },
     "execution_count": 31,
     "metadata": {},
     "output_type": "execute_result"
    }
   ],
   "source": [
    "merge_data.groupby(['title']).size().sort_values(ascending = False ).head(10)"
   ]
  },
  {
   "cell_type": "markdown",
   "id": "e62082a1",
   "metadata": {},
   "source": [
    "### Which three years of the 1930s saw the most films released?"
   ]
  },
  {
   "cell_type": "code",
   "execution_count": 32,
   "id": "d6fe7b26",
   "metadata": {},
   "outputs": [
    {
     "data": {
      "text/plain": [
       "year\n",
       "1930    3286\n",
       "1920    2667\n",
       "1929    2455\n",
       "dtype: int64"
      ]
     },
     "execution_count": 32,
     "metadata": {},
     "output_type": "execute_result"
    }
   ],
   "source": [
    "merge_data[(merge_data['year']>=1920)&(merge_data['year']<=1930)].groupby(['year']).size().sort_values(ascending = False).head(3)"
   ]
  },
  {
   "cell_type": "markdown",
   "id": "efffba68",
   "metadata": {},
   "source": [
    "### Plot the number of films that have been released each decade over the history of cinema."
   ]
  },
  {
   "cell_type": "code",
   "execution_count": 37,
   "id": "b1d53d00",
   "metadata": {},
   "outputs": [
    {
     "data": {
      "text/plain": [
       "20684"
      ]
     },
     "execution_count": 37,
     "metadata": {},
     "output_type": "execute_result"
    }
   ],
   "source": [
    "merge_data[merge_data['year']==merge_data.year//10*10]['title'].nunique()"
   ]
  },
  {
   "cell_type": "code",
   "execution_count": 40,
   "id": "11e5c737",
   "metadata": {},
   "outputs": [
    {
     "data": {
      "text/plain": [
       "0          1990\n",
       "1          1960\n",
       "2          1960\n",
       "3          1960\n",
       "4          1960\n",
       "           ... \n",
       "1115169    2010\n",
       "1115170    2010\n",
       "1115171    2010\n",
       "1115172    2010\n",
       "1115173    2010\n",
       "Name: year, Length: 1115174, dtype: int64"
      ]
     },
     "execution_count": 40,
     "metadata": {},
     "output_type": "execute_result"
    }
   ],
   "source": [
    "merge_data.year//10*10"
   ]
  },
  {
   "cell_type": "markdown",
   "id": "970523a6",
   "metadata": {},
   "source": [
    "### Plot the number of \"Hamlet\" films made each decade."
   ]
  },
  {
   "cell_type": "code",
   "execution_count": 46,
   "id": "51edbda7",
   "metadata": {},
   "outputs": [
    {
     "name": "stdout",
     "output_type": "stream",
     "text": [
      "Number of 'Hamlet' films made each decade are - 21\n"
     ]
    }
   ],
   "source": [
    "a = merge_data[(merge_data['title']=='Hamlet') & (merge_data['year']==merge_data.year//10*10)]['title'].count()\n",
    "print(\"Number of 'Hamlet' films made each decade are - {}\".format(a))"
   ]
  },
  {
   "cell_type": "markdown",
   "id": "434838b8",
   "metadata": {},
   "source": [
    "### Plot the number of \"Rustler\" characters in each decade of the history of film."
   ]
  },
  {
   "cell_type": "code",
   "execution_count": 49,
   "id": "967697e7",
   "metadata": {},
   "outputs": [
    {
     "name": "stdout",
     "output_type": "stream",
     "text": [
      "Number of 'Rustler' films made each decade are - 0\n"
     ]
    }
   ],
   "source": [
    "a = merge_data[(merge_data['title']=='Rustler') & (merge_data['year']==merge_data.year//10*10)]['title'].count()\n",
    "print(\"Number of 'Rustler' films made each decade are - {}\".format(a))"
   ]
  },
  {
   "cell_type": "code",
   "execution_count": null,
   "id": "c308cd55",
   "metadata": {},
   "outputs": [],
   "source": []
  },
  {
   "cell_type": "markdown",
   "id": "ce027b75",
   "metadata": {},
   "source": [
    "### What are the 11 most common character names in movie history?"
   ]
  },
  {
   "cell_type": "code",
   "execution_count": 51,
   "id": "3090b4d6",
   "metadata": {},
   "outputs": [
    {
     "data": {
      "text/plain": [
       "character\n",
       "Himself      8438\n",
       "Policeman    3043\n",
       "Doctor       2799\n",
       "Extra        2765\n",
       "Reporter     2692\n",
       "Townsman     2634\n",
       "Bartender    2414\n",
       "Waiter       2296\n",
       "Henchman     2140\n",
       "Dancer       2002\n",
       "dtype: int64"
      ]
     },
     "execution_count": 51,
     "metadata": {},
     "output_type": "execute_result"
    }
   ],
   "source": [
    "merge_data.groupby(['character']).size().sort_values(ascending = False ).head(10)"
   ]
  },
  {
   "cell_type": "markdown",
   "id": "87149e73",
   "metadata": {},
   "source": [
    "### Who are the 10 people most often credited as \"Herself\" in film history?"
   ]
  },
  {
   "cell_type": "code",
   "execution_count": 53,
   "id": "b61f75c2",
   "metadata": {},
   "outputs": [
    {
     "data": {
      "text/plain": [
       "name\n",
       "Aleli Estrada       1\n",
       "Ali Harter          1\n",
       "Voin de Voin        1\n",
       "Velvet Crayon       1\n",
       "Taylor Christina    1\n",
       "Sui the Dog         1\n",
       "Sharon A. Fox       1\n",
       "Ren? Biaggi         1\n",
       "Rebecca Hudson      1\n",
       "Nelly Diener        1\n",
       "dtype: int64"
      ]
     },
     "execution_count": 53,
     "metadata": {},
     "output_type": "execute_result"
    }
   ],
   "source": [
    "merge_data[merge_data['character']=='Herself'].groupby('name').size().sort_values(ascending = False).head(10)"
   ]
  },
  {
   "cell_type": "markdown",
   "id": "2cc34b20",
   "metadata": {},
   "source": [
    "### Who are the 10 people most often credited as \"Himself\" in film history?"
   ]
  },
  {
   "cell_type": "code",
   "execution_count": 56,
   "id": "d1d6a7bb",
   "metadata": {},
   "outputs": [
    {
     "data": {
      "text/plain": [
       "name\n",
       "Adolf Hitler         99\n",
       "George W. Bush       23\n",
       "Winston Churchill    23\n",
       "Bill Clinton         20\n",
       "Muhammad Ali         17\n",
       "Billy Graham         15\n",
       "Amitabh Bachchan     13\n",
       "Jimmy Carter         13\n",
       "Walter Cronkite      11\n",
       "Fidel Castro         11\n",
       "dtype: int64"
      ]
     },
     "execution_count": 56,
     "metadata": {},
     "output_type": "execute_result"
    }
   ],
   "source": [
    "merge_data[merge_data['character']=='Himself'].groupby('name').size().sort_values(ascending = False).head(10)"
   ]
  },
  {
   "cell_type": "markdown",
   "id": "2ce99d5f",
   "metadata": {},
   "source": [
    "### Which actors or actresses appeared in the most movies in the year 1945?"
   ]
  },
  {
   "cell_type": "code",
   "execution_count": 62,
   "id": "c810620d",
   "metadata": {},
   "outputs": [
    {
     "data": {
      "text/plain": [
       "name             type \n",
       "Sam (II) Harris  actor    32\n",
       "dtype: int64"
      ]
     },
     "execution_count": 62,
     "metadata": {},
     "output_type": "execute_result"
    }
   ],
   "source": [
    "merge_data[(merge_data['year'] == 1945)].groupby(['name','type']).size().sort_values(ascending = False).head(1)"
   ]
  },
  {
   "cell_type": "markdown",
   "id": "3346045d",
   "metadata": {},
   "source": [
    "### Plot how many roles Mammootty has played in each year of his career."
   ]
  },
  {
   "cell_type": "code",
   "execution_count": 80,
   "id": "59a9f66c",
   "metadata": {},
   "outputs": [
    {
     "data": {
      "text/plain": [
       "<AxesSubplot:xlabel='year'>"
      ]
     },
     "execution_count": 80,
     "metadata": {},
     "output_type": "execute_result"
    },
    {
     "data": {
      "image/png": "[encoded data removed]",
      "text/plain": [
       "<Figure size 432x288 with 1 Axes>"
      ]
     },
     "metadata": {
      "needs_background": "light"
     },
     "output_type": "display_data"
    }
   ],
   "source": [
    "merge_data[merge_data['name']=='Donald Crisp'].groupby(['year']).size().sort_values(ascending = False).plot(kind='bar')\n"
   ]
  },
  {
   "cell_type": "markdown",
   "id": "07dac74a",
   "metadata": {},
   "source": [
    "### What are the 10 most frequent roles that start with the phrase \"Patron in\"?"
   ]
  },
  {
   "cell_type": "code",
   "execution_count": 87,
   "id": "bfdfc8d7",
   "metadata": {},
   "outputs": [
    {
     "data": {
      "text/plain": [
       "['Patron in Frisky Rabbit',\n",
       " 'Patron in the Coffee House',\n",
       " 'Patron in Club',\n",
       " 'Patron in restaurant',\n",
       " 'Patron in Coffee Shop',\n",
       " 'Patron in booth',\n",
       " 'Patron in Restaurant',\n",
       " 'Patron in Audience',\n",
       " 'Patron in Black',\n",
       " 'Patron in Store']"
      ]
     },
     "execution_count": 87,
     "metadata": {},
     "output_type": "execute_result"
    }
   ],
   "source": [
    "cast[cast['character'].str.startswith('Patron in')]['character'].value_counts().head(10).index.tolist()"
   ]
  },
  {
   "cell_type": "markdown",
   "id": "dd4dce6e",
   "metadata": {},
   "source": [
    "### What are the 10 most frequent roles that start with the word \"Science\"?"
   ]
  },
  {
   "cell_type": "code",
   "execution_count": 90,
   "id": "25125f01",
   "metadata": {},
   "outputs": [
    {
     "data": {
      "text/plain": [
       "['Science Teacher',\n",
       " 'Science Student',\n",
       " 'Science Club Member',\n",
       " 'Science Fair Kid',\n",
       " 'Science Kid',\n",
       " 'Science Reporter',\n",
       " 'Science Performer 3',\n",
       " 'Science Lab Guard',\n",
       " 'Science Lab Guard 2',\n",
       " 'Science Kid #1']"
      ]
     },
     "execution_count": 90,
     "metadata": {},
     "output_type": "execute_result"
    }
   ],
   "source": [
    "cast[cast['character'].str.startswith('Science')]['character'].value_counts().head(10).index.tolist()"
   ]
  },
  {
   "cell_type": "markdown",
   "id": "fc4b0172",
   "metadata": {},
   "source": [
    "### Plot the n-values of the roles that Judi Dench has played over her career."
   ]
  },
  {
   "cell_type": "code",
   "execution_count": 93,
   "id": "7781d79b",
   "metadata": {},
   "outputs": [
    {
     "data": {
      "text/plain": [
       "Series([], Name: character, dtype: object)"
      ]
     },
     "execution_count": 93,
     "metadata": {},
     "output_type": "execute_result"
    }
   ],
   "source": [
    "merge_data[merge_data['name']=='Judi Dench']['character'].head(15)"
   ]
  },
  {
   "cell_type": "markdown",
   "id": "5f025c00",
   "metadata": {},
   "source": [
    "### Plot the n-values of Cary Grant's roles through his career."
   ]
  },
  {
   "cell_type": "code",
   "execution_count": 95,
   "id": "edff561f",
   "metadata": {},
   "outputs": [
    {
     "data": {
      "text/plain": [
       "Series([], Name: character, dtype: object)"
      ]
     },
     "execution_count": 95,
     "metadata": {},
     "output_type": "execute_result"
    }
   ],
   "source": [
    "merge_data[merge_data['name']==\"Cary Grant's\"]['character'].head(15)"
   ]
  },
  {
   "cell_type": "markdown",
   "id": "97d11681",
   "metadata": {},
   "source": [
    "### Plot the n-value of the roles that Sidney Poitier has acted over the years."
   ]
  },
  {
   "cell_type": "code",
   "execution_count": 99,
   "id": "165c876e",
   "metadata": {},
   "outputs": [
    {
     "data": {
      "text/plain": [
       "Series([], Name: character, dtype: object)"
      ]
     },
     "execution_count": 99,
     "metadata": {},
     "output_type": "execute_result"
    }
   ],
   "source": [
    "merge_data[merge_data['name']==\"Sidney Poitier\"]['character'].head(15)"
   ]
  },
  {
   "cell_type": "markdown",
   "id": "b5c8737e",
   "metadata": {},
   "source": [
    "### How many leading (n=1) roles were available to actors, and how many to actresses, in the 1950s?"
   ]
  },
  {
   "cell_type": "code",
   "execution_count": 100,
   "id": "168b51c7",
   "metadata": {},
   "outputs": [
    {
     "data": {
      "text/plain": [
       "type\n",
       "actor    281\n",
       "dtype: int64"
      ]
     },
     "execution_count": 100,
     "metadata": {},
     "output_type": "execute_result"
    }
   ],
   "source": [
    "merge_data[(merge_data['year']==1950) &(merge_data['n'] == 1)].groupby('type').size()"
   ]
  },
  {
   "cell_type": "markdown",
   "id": "2ae83d5f",
   "metadata": {},
   "source": [
    "### How many supporting (n=2) roles were available to actors, and how many to actresses, in the 1950s?"
   ]
  },
  {
   "cell_type": "code",
   "execution_count": 102,
   "id": "4a7f9cc7",
   "metadata": {},
   "outputs": [
    {
     "data": {
      "text/plain": [
       "type\n",
       "actor    219\n",
       "dtype: int64"
      ]
     },
     "execution_count": 102,
     "metadata": {},
     "output_type": "execute_result"
    }
   ],
   "source": [
    "merge_data[(merge_data['year']==1950) &(merge_data['n'] == 2)].groupby('type').size()"
   ]
  },
  {
   "cell_type": "code",
   "execution_count": null,
   "id": "6b4b6af1",
   "metadata": {
    "collapsed": true
   },
   "outputs": [],
   "source": []
  }
 ],
 "metadata": {
  "kernelspec": {
   "display_name": "Python 3 (ipykernel)",
   "language": "python",
   "name": "python3"
  },
  "language_info": {
   "codemirror_mode": {
    "name": "ipython",
    "version": 3
   },
   "file_extension": ".py",
   "mimetype": "text/x-python",
   "name": "python",
   "nbconvert_exporter": "python",
   "pygments_lexer": "ipython3",
   "version": "3.9.12"
  }
 },
 "nbformat": 4,
 "nbformat_minor": 5
}

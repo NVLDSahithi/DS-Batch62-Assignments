{
 "cells": [
  {
   "cell_type": "code",
   "execution_count": 47,
   "id": "691f6149",
   "metadata": {},
   "outputs": [],
   "source": [
    "import pandas as pd\n",
    "import seaborn as sns\n",
    "import numpy as np"
   ]
  },
  {
   "cell_type": "code",
   "execution_count": 3,
   "id": "bceb4e88",
   "metadata": {},
   "outputs": [
    {
     "data": {
      "text/html": [
       "<div>\n",
       "<style scoped>\n",
       "    .dataframe tbody tr th:only-of-type {\n",
       "        vertical-align: middle;\n",
       "    }\n",
       "\n",
       "    .dataframe tbody tr th {\n",
       "        vertical-align: top;\n",
       "    }\n",
       "\n",
       "    .dataframe thead th {\n",
       "        text-align: right;\n",
       "    }\n",
       "</style>\n",
       "<table border=\"1\" class=\"dataframe\">\n",
       "  <thead>\n",
       "    <tr style=\"text-align: right;\">\n",
       "      <th></th>\n",
       "      <th>YearsExperience</th>\n",
       "      <th>Salary</th>\n",
       "    </tr>\n",
       "  </thead>\n",
       "  <tbody>\n",
       "    <tr>\n",
       "      <th>0</th>\n",
       "      <td>1.1</td>\n",
       "      <td>39343.0</td>\n",
       "    </tr>\n",
       "    <tr>\n",
       "      <th>1</th>\n",
       "      <td>1.3</td>\n",
       "      <td>46205.0</td>\n",
       "    </tr>\n",
       "    <tr>\n",
       "      <th>2</th>\n",
       "      <td>1.5</td>\n",
       "      <td>37731.0</td>\n",
       "    </tr>\n",
       "    <tr>\n",
       "      <th>3</th>\n",
       "      <td>2.0</td>\n",
       "      <td>43525.0</td>\n",
       "    </tr>\n",
       "    <tr>\n",
       "      <th>4</th>\n",
       "      <td>2.2</td>\n",
       "      <td>39891.0</td>\n",
       "    </tr>\n",
       "  </tbody>\n",
       "</table>\n",
       "</div>"
      ],
      "text/plain": [
       "   YearsExperience   Salary\n",
       "0              1.1  39343.0\n",
       "1              1.3  46205.0\n",
       "2              1.5  37731.0\n",
       "3              2.0  43525.0\n",
       "4              2.2  39891.0"
      ]
     },
     "execution_count": 3,
     "metadata": {},
     "output_type": "execute_result"
    }
   ],
   "source": [
    "data = pd.read_csv('C:/Users/DELL/Desktop/Datascience Course/Projects and assignments/Simple Linear Regression/LSalary_Data.csv')\n",
    "data.head()"
   ]
  },
  {
   "cell_type": "code",
   "execution_count": 4,
   "id": "d119755a",
   "metadata": {},
   "outputs": [
    {
     "data": {
      "text/plain": [
       "(30, 2)"
      ]
     },
     "execution_count": 4,
     "metadata": {},
     "output_type": "execute_result"
    }
   ],
   "source": [
    "data.shape"
   ]
  },
  {
   "cell_type": "code",
   "execution_count": 5,
   "id": "b84221d9",
   "metadata": {},
   "outputs": [
    {
     "data": {
      "text/html": [
       "<div>\n",
       "<style scoped>\n",
       "    .dataframe tbody tr th:only-of-type {\n",
       "        vertical-align: middle;\n",
       "    }\n",
       "\n",
       "    .dataframe tbody tr th {\n",
       "        vertical-align: top;\n",
       "    }\n",
       "\n",
       "    .dataframe thead th {\n",
       "        text-align: right;\n",
       "    }\n",
       "</style>\n",
       "<table border=\"1\" class=\"dataframe\">\n",
       "  <thead>\n",
       "    <tr style=\"text-align: right;\">\n",
       "      <th></th>\n",
       "      <th>Delivery Time</th>\n",
       "      <th>Sorting Time</th>\n",
       "    </tr>\n",
       "  </thead>\n",
       "  <tbody>\n",
       "    <tr>\n",
       "      <th>0</th>\n",
       "      <td>21.00</td>\n",
       "      <td>10</td>\n",
       "    </tr>\n",
       "    <tr>\n",
       "      <th>1</th>\n",
       "      <td>13.50</td>\n",
       "      <td>4</td>\n",
       "    </tr>\n",
       "    <tr>\n",
       "      <th>2</th>\n",
       "      <td>19.75</td>\n",
       "      <td>6</td>\n",
       "    </tr>\n",
       "    <tr>\n",
       "      <th>3</th>\n",
       "      <td>24.00</td>\n",
       "      <td>9</td>\n",
       "    </tr>\n",
       "    <tr>\n",
       "      <th>4</th>\n",
       "      <td>29.00</td>\n",
       "      <td>10</td>\n",
       "    </tr>\n",
       "  </tbody>\n",
       "</table>\n",
       "</div>"
      ],
      "text/plain": [
       "   Delivery Time  Sorting Time\n",
       "0          21.00            10\n",
       "1          13.50             4\n",
       "2          19.75             6\n",
       "3          24.00             9\n",
       "4          29.00            10"
      ]
     },
     "execution_count": 5,
     "metadata": {},
     "output_type": "execute_result"
    }
   ],
   "source": [
    "dt = pd.read_csv('C:/Users/DELL/Desktop/Datascience Course/Projects and assignments/Simple Linear Regression/delivery_time.csv')\n",
    "dt.head()"
   ]
  },
  {
   "cell_type": "code",
   "execution_count": 6,
   "id": "4d919c93",
   "metadata": {},
   "outputs": [
    {
     "data": {
      "text/plain": [
       "<AxesSubplot:xlabel='YearsExperience', ylabel='Salary'>"
      ]
     },
     "execution_count": 6,
     "metadata": {},
     "output_type": "execute_result"
    },
    {
     "data": {
      "image/png": "[encoded data removed]",
      "text/plain": [
       "<Figure size 432x288 with 1 Axes>"
      ]
     },
     "metadata": {
      "needs_background": "light"
     },
     "output_type": "display_data"
    }
   ],
   "source": [
    "sns.regplot(x='YearsExperience', y = 'Salary', data = data)"
   ]
  },
  {
   "cell_type": "code",
   "execution_count": 59,
   "id": "f0e74a64",
   "metadata": {},
   "outputs": [],
   "source": [
    "X1 = data.iloc[:,0].values\n",
    "X1 = X1.reshape(-1,1)\n"
   ]
  },
  {
   "cell_type": "code",
   "execution_count": 60,
   "id": "95414d9d",
   "metadata": {},
   "outputs": [],
   "source": [
    "y1 = data.iloc[:,1].values\n",
    "y1 = y1.reshape(-1,1)"
   ]
  },
  {
   "cell_type": "code",
   "execution_count": 12,
   "id": "1a4a9b6d",
   "metadata": {},
   "outputs": [],
   "source": [
    "from sklearn.linear_model import LinearRegression"
   ]
  },
  {
   "cell_type": "code",
   "execution_count": 61,
   "id": "4149554e",
   "metadata": {},
   "outputs": [],
   "source": [
    "model = LinearRegression()\n",
    "model_fit = model.fit(X1,y1)"
   ]
  },
  {
   "cell_type": "code",
   "execution_count": 62,
   "id": "694ca0ff",
   "metadata": {},
   "outputs": [
    {
     "data": {
      "text/plain": [
       "array([[9449.96232146]])"
      ]
     },
     "execution_count": 62,
     "metadata": {},
     "output_type": "execute_result"
    }
   ],
   "source": [
    "model_fit.coef_"
   ]
  },
  {
   "cell_type": "code",
   "execution_count": 63,
   "id": "96d613f8",
   "metadata": {},
   "outputs": [
    {
     "data": {
      "text/plain": [
       "array([25792.20019867])"
      ]
     },
     "execution_count": 63,
     "metadata": {},
     "output_type": "execute_result"
    }
   ],
   "source": [
    "model_fit.intercept_"
   ]
  },
  {
   "cell_type": "code",
   "execution_count": 64,
   "id": "497ddbc8",
   "metadata": {},
   "outputs": [
    {
     "data": {
      "text/plain": [
       "63592.049484510004"
      ]
     },
     "execution_count": 64,
     "metadata": {},
     "output_type": "execute_result"
    }
   ],
   "source": [
    "### Predicted Salary with out function\n",
    "X = 4\n",
    "y = 9449.96232146*X + 25792.20019867\n",
    "y"
   ]
  },
  {
   "cell_type": "code",
   "execution_count": 67,
   "id": "fb5eb1fc",
   "metadata": {},
   "outputs": [],
   "source": [
    "model = LinearRegression()\n",
    "model_fit = model.fit(X1,y1)\n",
    "m = model_fit.coef_\n",
    "c = model_fit.intercept_\n"
   ]
  },
  {
   "cell_type": "code",
   "execution_count": 68,
   "id": "2569280f",
   "metadata": {},
   "outputs": [
    {
     "data": {
      "text/plain": [
       "array([[9449.96232146]])"
      ]
     },
     "execution_count": 68,
     "metadata": {},
     "output_type": "execute_result"
    }
   ],
   "source": [
    "m"
   ]
  },
  {
   "cell_type": "code",
   "execution_count": 69,
   "id": "f0f8e305",
   "metadata": {},
   "outputs": [
    {
     "data": {
      "text/plain": [
       "array([25792.20019867])"
      ]
     },
     "execution_count": 69,
     "metadata": {},
     "output_type": "execute_result"
    }
   ],
   "source": [
    "c"
   ]
  },
  {
   "cell_type": "code",
   "execution_count": 70,
   "id": "5724ff00",
   "metadata": {},
   "outputs": [],
   "source": [
    "def simple_Linear(X):\n",
    "    y = m*X + c\n",
    "    return y"
   ]
  },
  {
   "cell_type": "code",
   "execution_count": 71,
   "id": "5f773f59",
   "metadata": {},
   "outputs": [
    {
     "name": "stdout",
     "output_type": "stream",
     "text": [
      "The Predicted salary for 4 Years of Exp is - [[63592.04948449]]\n"
     ]
    }
   ],
   "source": [
    "### Predicted Salary with function\n",
    "X = 4\n",
    "y = simple_Linear(X)\n",
    "print(\"The Predicted salary for {}\".format(X),\"Years of Exp is - {}\".format(y))"
   ]
  },
  {
   "cell_type": "code",
   "execution_count": 72,
   "id": "75497248",
   "metadata": {},
   "outputs": [
    {
     "name": "stdout",
     "output_type": "stream",
     "text": [
      "The Predicted salary for 2.5 Years of Exp is - [[49417.10600231]]\n"
     ]
    }
   ],
   "source": [
    "### Predicted Salary with function\n",
    "X = 2.5\n",
    "y = simple_Linear(X)\n",
    "print(\"The Predicted salary for {}\".format(X),\"Years of Exp is - {}\".format(y))"
   ]
  },
  {
   "cell_type": "code",
   "execution_count": 73,
   "id": "db86e903",
   "metadata": {},
   "outputs": [
    {
     "name": "stdout",
     "output_type": "stream",
     "text": [
      "The Predicted salary for 5.5 Years of Exp is - [[77766.99296667]]\n"
     ]
    }
   ],
   "source": [
    "### Predicted Salary with function\n",
    "X = 5.5\n",
    "y = simple_Linear(X)\n",
    "print(\"The Predicted salary for {}\".format(X),\"Years of Exp is - {}\".format(y))"
   ]
  },
  {
   "cell_type": "code",
   "execution_count": 51,
   "id": "2387dcd7",
   "metadata": {},
   "outputs": [],
   "source": [
    "data['Log_EXP'] = np.log(data['YearsExperience'])\n",
    "data['Log_Salary'] = np.log(data['Salary'])"
   ]
  },
  {
   "cell_type": "code",
   "execution_count": 52,
   "id": "233e7ddd",
   "metadata": {},
   "outputs": [
    {
     "data": {
      "text/plain": [
       "<AxesSubplot:xlabel='Log_EXP', ylabel='Log_Salary'>"
      ]
     },
     "execution_count": 52,
     "metadata": {},
     "output_type": "execute_result"
    },
    {
     "data": {
      "image/png": "[encoded data removed]",
      "text/plain": [
       "<Figure size 432x288 with 1 Axes>"
      ]
     },
     "metadata": {
      "needs_background": "light"
     },
     "output_type": "display_data"
    }
   ],
   "source": [
    "sns.regplot(x = 'Log_EXP', y = 'Log_Salary', data = data) ### Graph of Log Transformation"
   ]
  },
  {
   "cell_type": "code",
   "execution_count": 23,
   "id": "5e00f32a",
   "metadata": {},
   "outputs": [
    {
     "data": {
      "text/plain": [
       "115566.84225254"
      ]
     },
     "execution_count": 23,
     "metadata": {},
     "output_type": "execute_result"
    }
   ],
   "source": [
    "X = 9.5\n",
    "y = 9449.96232146*X + 25792.20019867\n",
    "y"
   ]
  },
  {
   "cell_type": "code",
   "execution_count": 27,
   "id": "a0a333d6",
   "metadata": {},
   "outputs": [
    {
     "data": {
      "text/plain": [
       "<AxesSubplot:xlabel='Delivery Time', ylabel='Sorting Time'>"
      ]
     },
     "execution_count": 27,
     "metadata": {},
     "output_type": "execute_result"
    },
    {
     "data": {
      "image/png": "[encoded data removed]",
      "text/plain": [
       "<Figure size 432x288 with 1 Axes>"
      ]
     },
     "metadata": {
      "needs_background": "light"
     },
     "output_type": "display_data"
    }
   ],
   "source": [
    "### Plot graph for delivery time\n",
    "sns.regplot(x = 'Delivery Time', y= 'Sorting Time', data = dt)"
   ]
  },
  {
   "cell_type": "code",
   "execution_count": 75,
   "id": "61aad71f",
   "metadata": {},
   "outputs": [],
   "source": [
    "X2 = dt.iloc[:,0].values \n",
    "X2 = X2.reshape(-1,1)"
   ]
  },
  {
   "cell_type": "code",
   "execution_count": 76,
   "id": "d8d56ec9",
   "metadata": {},
   "outputs": [],
   "source": [
    "y2 = dt.iloc[:,1].values \n",
    "y2 = y2.reshape(-1,1)"
   ]
  },
  {
   "cell_type": "code",
   "execution_count": 77,
   "id": "9ced6833",
   "metadata": {},
   "outputs": [],
   "source": [
    "model = LinearRegression()\n",
    "model_fit = model.fit(X2,y2)\n",
    "m = model_fit.coef_\n",
    "c = model_fit.intercept_"
   ]
  },
  {
   "cell_type": "code",
   "execution_count": 40,
   "id": "d1f8d4a0",
   "metadata": {},
   "outputs": [
    {
     "name": "stdout",
     "output_type": "stream",
     "text": [
      "The Predicted Sorting Time for Delivery Time 23 is - [[8.75943008]]\n"
     ]
    }
   ],
   "source": [
    "### Predicted Sorting Time\n",
    "X = 23\n",
    "y = simple_Linear(X)\n",
    "print(\"The Predicted Sorting Time for Delivery Time {}\".format(X),\"is - {}\".format(y))"
   ]
  },
  {
   "cell_type": "code",
   "execution_count": 80,
   "id": "d222dec2",
   "metadata": {},
   "outputs": [
    {
     "name": "stdout",
     "output_type": "stream",
     "text": [
      "The Predicted Sorting Time for Delivery Time 25 is - [[9.58691734]]\n"
     ]
    }
   ],
   "source": [
    "### Predicted Sorting Time\n",
    "X = 25\n",
    "y = simple_Linear(X)\n",
    "print(\"The Predicted Sorting Time for Delivery Time {}\".format(X),\"is - {}\".format(y))"
   ]
  },
  {
   "cell_type": "code",
   "execution_count": 81,
   "id": "ce7e6ff7",
   "metadata": {},
   "outputs": [
    {
     "name": "stdout",
     "output_type": "stream",
     "text": [
      "The Predicted Sorting Time for Delivery Time 40 is - [[15.79307176]]\n"
     ]
    }
   ],
   "source": [
    "### Predicted Sorting Time\n",
    "X = 40\n",
    "y = simple_Linear(X)\n",
    "print(\"The Predicted Sorting Time for Delivery Time {}\".format(X),\"is - {}\".format(y))"
   ]
  },
  {
   "cell_type": "code",
   "execution_count": null,
   "id": "b0533544",
   "metadata": {},
   "outputs": [],
   "source": []
  }
 ],
 "metadata": {
  "kernelspec": {
   "display_name": "Python 3 (ipykernel)",
   "language": "python",
   "name": "python3"
  },
  "language_info": {
   "codemirror_mode": {
    "name": "ipython",
    "version": 3
   },
   "file_extension": ".py",
   "mimetype": "text/x-python",
   "name": "python",
   "nbconvert_exporter": "python",
   "pygments_lexer": "ipython3",
   "version": "3.9.12"
  }
 },
 "nbformat": 4,
 "nbformat_minor": 5
}
